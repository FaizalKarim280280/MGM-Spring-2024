{
 "cells": [
  {
   "cell_type": "code",
   "execution_count": null,
   "id": "ece13622-0f77-48b7-b37e-feaf1d84a6cb",
   "metadata": {},
   "outputs": [],
   "source": [
    "# Assignment: Sinkhorn based Generative Modelling\n",
    "\n",
    "# In this you will play with the following code that uses Sinkhorn based generative models, and report results. \n",
    "# There are no coding to be done in this. But you will play around with various options. \n",
    "# You will clone a github repo, that allows you to play with various options.\n",
    "# You are encouraged to explore lot more than what is suggested and report if anything is interesting!\n",
    "\n",
    "# As is known, the Sinkhorn based models are not known to be good! However, with a extension with GAN, it does seem to \n",
    "# show promising results. IT remains to be seen how well it does with GAN on CIFAR10. You may try exploring.\n",
    "\n",
    "# Paper: Improving GANs Using Optimal Transport\" by Tim Salimans, Han Zhang, Alec Radford, \n",
    "# Dimitris Metaxas (Link: https://arxiv.org/abs/1803.05573)\n",
    "\n",
    "# Submit the notebook file with generated figures and data. "
   ]
  },
  {
   "cell_type": "code",
   "execution_count": null,
   "id": "a7b77d9d-2203-4240-9c47-60a7abfbe83f",
   "metadata": {},
   "outputs": [],
   "source": [
    "!pip3 install pickleshare"
   ]
  },
  {
   "cell_type": "code",
   "execution_count": null,
   "id": "c69a426b-d980-459a-8319-fb31f909b384",
   "metadata": {},
   "outputs": [],
   "source": [
    "# Import our git repository\n",
    "!git clone --recursive https://github.com/Alexandre-Rio/ot_generative_models.git\n",
    "#%mkdir ot_generative_models\n",
    "%cd ot_generative_models"
   ]
  },
  {
   "cell_type": "code",
   "execution_count": null,
   "id": "c3339707-a6f4-49c6-89f2-af7641262d0a",
   "metadata": {},
   "outputs": [],
   "source": [
    "!nvidia-smi"
   ]
  },
  {
   "cell_type": "code",
   "execution_count": null,
   "id": "13d08736-608d-4020-bd48-6a16086ef935",
   "metadata": {},
   "outputs": [],
   "source": [
    "# Load MNIST train dataset\n",
    "#%mkdir data\n",
    "import torchvision\n",
    "from data_preprocessing import mnist_transforms\n",
    "mnist = torchvision.datasets.MNIST('./data', train=True, transform=mnist_transforms, download=True)\n",
    "print(\"Number of samples in MNIST training dataset: {}\".format(len(mnist)))\n",
    "\n",
    "# Create data loader to load and display data batches\n",
    "from torch.utils.data import DataLoader\n",
    "mnist_data_loader = DataLoader(mnist, batch_size=64, shuffle=True)"
   ]
  },
  {
   "cell_type": "code",
   "execution_count": null,
   "id": "7efdfb94-6a01-4283-ad0b-eb8cdd7ab812",
   "metadata": {},
   "outputs": [],
   "source": [
    "# Plot a batch of MNIST digits\n",
    "from utils import plot_grid\n",
    "data, _ = next(iter(mnist_data_loader))\n",
    "plot_grid(data)"
   ]
  },
  {
   "cell_type": "code",
   "execution_count": null,
   "id": "143859ef-082a-4464-872e-e60681c36dce",
   "metadata": {},
   "outputs": [],
   "source": [
    "# TODO: run the following"
   ]
  },
  {
   "cell_type": "code",
   "execution_count": null,
   "id": "71aaff61-d6e6-40a6-b870-06bdb26373e7",
   "metadata": {},
   "outputs": [],
   "source": [
    "%run main.py --model='sinkhorn_gan' --architecture='simple' --display=True --dataset='mnist' --hidden_dim=500 --entropy_regularization=1 --sinkhorn_iterations=10 --latent_dim=2 --latent_space='uniform' --batch_size=200 --learning_rate=1e-4 --generator_steps=3 --checkpoints 10 20 50 100 150"
   ]
  },
  {
   "cell_type": "code",
   "execution_count": null,
   "id": "f4542234-a7e0-4414-95c5-6265a9e81333",
   "metadata": {},
   "outputs": [],
   "source": [
    "from utils import generate_plot_grid\n",
    "generator = Generator(input_dim=2, hidden_dim=500, output_dim=1024)\n",
    "generate_plot_grid(generator)"
   ]
  },
  {
   "cell_type": "code",
   "execution_count": null,
   "id": "50870d24-7ca4-4a7e-9731-51d50fd8d787",
   "metadata": {},
   "outputs": [],
   "source": [
    "generator.load_state_dict(torch.load('models/saved_models/sinkhorn_gan_generator.pth'))\n",
    "generate_plot_grid(generator)"
   ]
  },
  {
   "cell_type": "code",
   "execution_count": null,
   "id": "41f3eb12-bb3c-489a-8c38-d89bc07c1982",
   "metadata": {},
   "outputs": [],
   "source": [
    "# What do you observe? Do you see any good output. If not, then continue with following run"
   ]
  },
  {
   "cell_type": "code",
   "execution_count": null,
   "id": "9f695949-58b7-4a2b-9fd2-d869a7afcf0b",
   "metadata": {},
   "outputs": [],
   "source": [
    "%run main.py --model='sinkhorn_gan' --architecture='simple' --display=False --dataset='mnist' --hidden_dim=500 --entropy_regularization=1 --sinkhorn_iterations=10 --latent_dim=2 --latent_space='uniform' --distance='cosine' --batch_size=200 --learning_rate=1e-4 --checkpoints 10 20 50 100 150"
   ]
  },
  {
   "cell_type": "code",
   "execution_count": null,
   "id": "940ce810-9809-40a6-b7ba-432f044d1580",
   "metadata": {},
   "outputs": [],
   "source": [
    "generator.load_state_dict(torch.load('models/saved_models/sinkhorn_gan_generator_cp10epochs.pth'))\n",
    "generate_plot_grid(generator)"
   ]
  },
  {
   "cell_type": "code",
   "execution_count": null,
   "id": "d0621cbd-fb0a-49c4-8ede-da08db26262d",
   "metadata": {},
   "outputs": [],
   "source": [
    "generator.load_state_dict(torch.load('models/saved_models/sinkhorn_gan_generator_cp50epochs.pth'))\n",
    "generate_plot_grid(generator)"
   ]
  },
  {
   "cell_type": "code",
   "execution_count": null,
   "id": "462ab8d7-99df-429c-8260-e48d14a233bc",
   "metadata": {},
   "outputs": [],
   "source": [
    "generator.load_state_dict(torch.load('models/saved_models/sinkhorn_gan_generator.pth'))\n",
    "generate_plot_grid(generator)"
   ]
  },
  {
   "cell_type": "code",
   "execution_count": null,
   "id": "8595e2eb-96fe-4649-9c87-84cd59972afd",
   "metadata": {},
   "outputs": [],
   "source": [
    "# TODO: Any success? "
   ]
  },
  {
   "cell_type": "code",
   "execution_count": null,
   "id": "f097aeae-12d9-4194-bbc9-ec897787a9a8",
   "metadata": {},
   "outputs": [],
   "source": [
    "# Now try convolution architecture. \n",
    "# TODO: What do you observe? "
   ]
  },
  {
   "cell_type": "code",
   "execution_count": null,
   "id": "e8079cde-cd9a-41ca-bf63-77ed34e168ba",
   "metadata": {},
   "outputs": [],
   "source": [
    "%run main.py --model='sinkhorn_gan' --architecture='conv' --display=False --dataset='mnist' --entropy_regularization=1 --sinkhorn_iterations=10 --latent_dim=50 --latent_space='uniform' --distance='cosine' --batch_size=200 --learning_rate=1e-4 --checkpoints 10 20 50 100 150"
   ]
  },
  {
   "cell_type": "code",
   "execution_count": null,
   "id": "cbcf081a-541d-4808-8f97-614fbf1e81e5",
   "metadata": {},
   "outputs": [],
   "source": [
    "# Now let us generate using the following code. \n",
    "# TODO: What do you observe? Does it generate anything relevant? Is there mode collapse?"
   ]
  },
  {
   "cell_type": "code",
   "execution_count": null,
   "id": "1da07752-a45e-45b9-a4dd-a8a67d675ad6",
   "metadata": {},
   "outputs": [],
   "source": [
    "from architectures import ConvGenerator\n",
    "generator = ConvGenerator(50, mode='mnist')\n",
    "generator.load_state_dict(torch.load('models/saved_models/sinkhorn_gan_generator.pth'))\n",
    "generate_plot_grid(generator, model='sinkhorn_gan', latent_dim=50)"
   ]
  },
  {
   "cell_type": "code",
   "execution_count": null,
   "id": "a3ef3a6d-3015-4a18-8d0d-7e56b17dfdf3",
   "metadata": {},
   "outputs": [],
   "source": [
    "# Now try using a critic or discriminator \n",
    "# Does the result improve? mode collapse? "
   ]
  },
  {
   "cell_type": "code",
   "execution_count": null,
   "id": "d9d44920-d2a9-4e61-850d-fed95fe0ad76",
   "metadata": {},
   "outputs": [],
   "source": [
    "%run main.py --model='sinkhorn_gan' --architecture='conv' --use_critic=True --display=False --dataset='mnist' --entropy_regularization=1 --sinkhorn_iterations=10 --latent_dim=50 --latent_space='uniform' --distance='cosine' --batch_size=200 --learning_rate=1e-4 --checkpoints 10 20 50 100 150"
   ]
  },
  {
   "cell_type": "code",
   "execution_count": null,
   "id": "1d51fe82-1015-489c-8235-7d5ca583a9ec",
   "metadata": {},
   "outputs": [],
   "source": [
    "# Now let us try OT-GAN"
   ]
  },
  {
   "cell_type": "code",
   "execution_count": null,
   "id": "037f1e12-5ea1-471c-a457-4c79d19ae74c",
   "metadata": {},
   "outputs": [],
   "source": [
    "%run main.py --model='ot_gan' --architecture='conv' --use_critic=True --display=False --dataset='mnist' --entropy_regularization=1 --sinkhorn_iterations=10 --latent_dim=50 --latent_space='uniform' --batch_size=200 --learning_rate=1e-4 --generator_steps=3 --checkpoints 10 20 50 100 150"
   ]
  },
  {
   "cell_type": "code",
   "execution_count": null,
   "id": "6898adad-1c85-4380-968c-68bca36b07d7",
   "metadata": {},
   "outputs": [],
   "source": [
    "from architectures import ConvGenerator\n",
    "generator = ConvGenerator(50, mode='mnist')\n",
    "generate_plot_grid(generator, model='ot_gan', latent_dim=50)"
   ]
  },
  {
   "cell_type": "code",
   "execution_count": null,
   "id": "c54026f8-a662-4c81-b851-4cfdc5678b9f",
   "metadata": {},
   "outputs": [],
   "source": [
    "# Now let us generate from saved checkpoint"
   ]
  },
  {
   "cell_type": "code",
   "execution_count": null,
   "id": "5b9484cc-607f-42b9-9909-af5b84a1fc34",
   "metadata": {},
   "outputs": [],
   "source": [
    "generator.load_state_dict(torch.load('models/saved_models/ot_gan_generator_cp10epochs.pth'))\n",
    "generate_plot_grid(generator, model='ot_gan', latent_dim=50)"
   ]
  },
  {
   "cell_type": "code",
   "execution_count": null,
   "id": "49a0dca3-c857-4277-8e33-1ce15905a9a9",
   "metadata": {},
   "outputs": [],
   "source": [
    "# let us generate again"
   ]
  },
  {
   "cell_type": "code",
   "execution_count": null,
   "id": "7af95b4b-0640-4b51-9a8f-796892224f00",
   "metadata": {},
   "outputs": [],
   "source": [
    "generator.load_state_dict(torch.load('models/saved_models/ot_gan_generator.pth'))\n",
    "generate_plot_grid(generator, model='ot_gan', latent_dim=50)"
   ]
  },
  {
   "cell_type": "code",
   "execution_count": null,
   "id": "8e5230d8-3ad4-4602-8752-c820ba141772",
   "metadata": {},
   "outputs": [],
   "source": [
    "# TODO: does the code suffer from mode collapse? do we see missing digits? Also do you see strange digit shapes? \n",
    "# let us try using Gaussian latent"
   ]
  },
  {
   "cell_type": "code",
   "execution_count": null,
   "id": "6f08086d-295a-4477-ab74-3816683d9936",
   "metadata": {},
   "outputs": [],
   "source": [
    "%run main.py --model='ot_gan' --architecture='conv' --use_critic=True --display=False --dataset='mnist' --entropy_regularization=1 --sinkhorn_iterations=10 --latent_dim=50 --latent_space='gaussian' --batch_size=200 --learning_rate=1e-4 --generator_steps=3 --checkpoints 10 20 50 100 150"
   ]
  },
  {
   "cell_type": "code",
   "execution_count": null,
   "id": "415eeeee-191b-431a-928f-3a4674297dfc",
   "metadata": {},
   "outputs": [],
   "source": [
    "# TODO: Now let us generate the images from generator. What do you observe? Are the images better? \n",
    "# TODO: If yes, then why do you think that using latent as Gaussian rather than uniform is better? "
   ]
  },
  {
   "cell_type": "code",
   "execution_count": null,
   "id": "bf7d3352-643e-4ce6-a35e-885c23c5dc9c",
   "metadata": {},
   "outputs": [],
   "source": [
    "generator.load_state_dict(torch.load('models/saved_models/ot_gan_generator.pth'))\n",
    "generate_plot_grid(generator, model='ot_gan', latent_dim=50)"
   ]
  },
  {
   "cell_type": "code",
   "execution_count": null,
   "id": "7c785288-497a-4f9c-899f-0aefa7455c4b",
   "metadata": {},
   "outputs": [],
   "source": [
    "# In the figure generated above, do you observe any mode collapse, that is, are there any digits that are missing? If yes, then which ones?"
   ]
  },
  {
   "cell_type": "code",
   "execution_count": null,
   "id": "c14daddf-82e9-4f43-aa84-7d6e03013ee7",
   "metadata": {},
   "outputs": [],
   "source": [
    "# Let us try changing few more parameters: epsilon = 0.1  and Sinkhorn iterations, L = 100"
   ]
  },
  {
   "cell_type": "code",
   "execution_count": null,
   "id": "9e03b08b-5ee8-42b7-94a5-fe12f7afe75a",
   "metadata": {},
   "outputs": [],
   "source": [
    "%run main.py --model='ot_gan' --architecture='conv' --use_critic=True --display=False --dataset='mnist' --entropy_regularization=0.1 --sinkhorn_iterations=100 --latent_dim=50 --latent_space='gaussian' --batch_size=200 --learning_rate=1e-4 --generator_steps=3 --checkpoints 10 20 50 100 150"
   ]
  },
  {
   "cell_type": "code",
   "execution_count": null,
   "id": "6d0c974e-b96d-4aa0-93f6-5937689214b9",
   "metadata": {},
   "outputs": [],
   "source": [
    "# Did you see any change? Also, it ran slower due to large Sinkhorn iterations? \n",
    "# TODO: try same epsilon, but L = 10 this time."
   ]
  },
  {
   "cell_type": "code",
   "execution_count": null,
   "id": "46295922-e671-4e12-83e1-c9188c5b74b6",
   "metadata": {},
   "outputs": [],
   "source": [
    "%run main.py --model='ot_gan' --architecture='conv' --use_critic=True --display=False --dataset='mnist' --entropy_regularization=0.1 --sinkhorn_iterations=10 --latent_dim=50 --latent_space='gaussian' --batch_size=200 --learning_rate=1e-4 --generator_steps=3 --checkpoints 10 20 50 100 150"
   ]
  },
  {
   "cell_type": "code",
   "execution_count": null,
   "id": "b1b2b909-71a1-4f5b-acb1-a17f106154e5",
   "metadata": {},
   "outputs": [],
   "source": [
    "# TODO: How were the results? Did it improve? Do you still see mode collapse, that is, is there any digit missing? "
   ]
  }
 ],
 "metadata": {
  "kernelspec": {
   "display_name": "Python 3 (ipykernel)",
   "language": "python",
   "name": "python3"
  },
  "language_info": {
   "codemirror_mode": {
    "name": "ipython",
    "version": 3
   },
   "file_extension": ".py",
   "mimetype": "text/x-python",
   "name": "python",
   "nbconvert_exporter": "python",
   "pygments_lexer": "ipython3",
   "version": "3.10.13"
  }
 },
 "nbformat": 4,
 "nbformat_minor": 5
}
