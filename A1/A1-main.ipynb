{
 "cells": [
  {
   "cell_type": "markdown",
   "metadata": {},
   "source": [
    "# Assignment 1\n",
    "Course: Mathematics of Generative Models \\\n",
    "Name: Md Faizal Karim \\\n",
    "Roll No: 2022121004"
   ]
  },
  {
   "cell_type": "code",
   "execution_count": 2,
   "metadata": {},
   "outputs": [
    {
     "data": {
      "text/plain": [
       "'1.24.4'"
      ]
     },
     "execution_count": 2,
     "metadata": {},
     "output_type": "execute_result"
    }
   ],
   "source": [
    "import numpy as np\n",
    "import matplotlib.pyplot as plt\n",
    "import seaborn as sea\n",
    "import queue\n",
    "import graphviz\n",
    "\n",
    "plt.style.use('seaborn-v0_8')           \n",
    "np.__version__"
   ]
  },
  {
   "cell_type": "markdown",
   "metadata": {
    "jp-MarkdownHeadingCollapsed": true
   },
   "source": [
    "## Problem 1"
   ]
  },
  {
   "cell_type": "markdown",
   "metadata": {},
   "source": [
    "<img src= './soln1.jpeg' width='60%'>\n",
    "Hence, we obtain p = 2/3"
   ]
  },
  {
   "cell_type": "markdown",
   "metadata": {},
   "source": [
    "#### Simulating a Bernoulli random variable (p = 2/3) using numpy"
   ]
  },
  {
   "cell_type": "code",
   "execution_count": 2,
   "metadata": {},
   "outputs": [
    {
     "name": "stdout",
     "output_type": "stream",
     "text": [
      "['G', 'G', 'B', 'G', 'G', 'B', 'G', 'B', 'B', 'G', 'G', 'G', 'B', 'B', 'G', 'G', 'B', 'G', 'B', 'B', 'B', 'B', 'G', 'G', 'G', 'G', 'G', 'G', 'B', 'B']\n"
     ]
    }
   ],
   "source": [
    "x = np.random.binomial(n = 1, p = 2/3, size=30)\n",
    "x = ['G' if i == 1 else 'B' for i in x]\n",
    "\n",
    "print(x)"
   ]
  },
  {
   "cell_type": "markdown",
   "metadata": {
    "jp-MarkdownHeadingCollapsed": true
   },
   "source": [
    "## Problem 2"
   ]
  },
  {
   "cell_type": "code",
   "execution_count": 5,
   "metadata": {},
   "outputs": [],
   "source": [
    "def generate(n, samples, plot_cdf=False):\n",
    "    \"\"\"\n",
    "    Input:\n",
    "        n: n-sided die,\n",
    "        samples: outcome of k trials\n",
    "        plot_cdf: plot the cdf?\n",
    "    Returns:\n",
    "        out: a random sample from the calculated distribution\n",
    "    \"\"\"\n",
    "    \n",
    "    pmf = np.histogram(samples, bins=n)[0]/len(samples)\n",
    "    cdf = np.cumsum(pmf)\n",
    "\n",
    "    if plot_cdf:\n",
    "        plt.title('CDF plot')\n",
    "        plt.plot(cdf, label='cdf')\n",
    "        plt.legend()\n",
    "        plt.show()\n",
    "\n",
    "    u = np.random.uniform(0, 1, 1)\n",
    "    out = np.abs(cdf - u)\n",
    "    out = np.where(np.abs(out - np.min(out)) < 1e-5)[0] + 1\n",
    "\n",
    "    return out[np.random.choice(1, len(out))] if len(out) != 1 else out\n",
    "    "
   ]
  },
  {
   "cell_type": "code",
   "execution_count": 6,
   "metadata": {},
   "outputs": [
    {
     "name": "stdout",
     "output_type": "stream",
     "text": [
      "[3]\n",
      "[2]\n",
      "[1]\n",
      "[2]\n",
      "[3]\n",
      "[5]\n",
      "[6]\n",
      "[1]\n",
      "[4]\n",
      "[2]\n"
     ]
    }
   ],
   "source": [
    "samples = [1, 3, 2, 4, 2, 3, 5, 7, 3, 2]\n",
    "\n",
    "for i in range(10):\n",
    "    print(generate(n=6, samples=samples))"
   ]
  },
  {
   "cell_type": "markdown",
   "metadata": {},
   "source": [
    "## Problem 3"
   ]
  },
  {
   "cell_type": "code",
   "execution_count": 14,
   "metadata": {},
   "outputs": [],
   "source": [
    "samples = np.array([\n",
    "    [1, 0, 1, 0, 0, 1, 1, 0, 0, 1],\n",
    "    [0, 0, 1, 1, 0, 1, 0, 1, 0, 0],\n",
    "    [1, 1, 0, 1, 0, 0, 0, 0, 0, 0],\n",
    "    [0, 0, 0, 1, 0, 1, 0, 0, 1, 1],\n",
    "    [0, 0, 0, 0, 0, 0, 1, 0, 1, 1],\n",
    "    [1, 1, 1, 0, 0, 1, 0, 1, 0, 0],\n",
    "    [1, 0, 1, 0, 1, 0, 1, 1, 1, 1],\n",
    "    [0, 0, 0, 0, 1, 1, 0, 1, 0, 0],\n",
    "    [0, 0, 0, 1, 0, 0, 1, 0, 1, 1],\n",
    "    [1, 1, 0, 0, 1, 1, 0, 1, 1, 1],\n",
    "    [0, 1, 0, 0, 1, 0, 1, 1, 1, 1],\n",
    "    [0, 1, 1, 1, 1, 1, 1, 0, 1, 0]])\n",
    "\n",
    "class Node:\n",
    "    def __init__(self, prob=None, index=0, is_leaf=False):\n",
    "        self.prob = prob\n",
    "        self.is_leaf = is_leaf\n",
    "        self.left = None\n",
    "        self.right = None\n",
    "        self.index = index\n",
    "        \n",
    "    def __repr__(self):\n",
    "        return f\"node: {id(self)}, prob:{self.prob:.4f}, index:{self.index}\"\n",
    "        "
   ]
  },
  {
   "cell_type": "code",
   "execution_count": 99,
   "metadata": {},
   "outputs": [],
   "source": [
    "\n",
    "class Solver:\n",
    "    def __init__(self, samples):\n",
    "        self.samples = samples\n",
    "        self.n_samples = len(samples[0])\n",
    "        self.root = None\n",
    "        \n",
    "    def start(self, node):\n",
    "        left_prob = len(np.where(self.samples[:, 0] == 1)[0])/len(self.samples)\n",
    "        right_prob = 1 - left_prob\n",
    "        node.left = Node(prob=left_prob, index=1)\n",
    "        node.right = Node(prob=right_prob, index=1)\n",
    "        return node.left, node.right\n",
    "    \n",
    "    def fxn(self, node, i, condition):\n",
    "        left_prob = len(np.where((self.samples[:, i] == 1) & (self.samples[:, i-1] == condition))[0])/len(np.where(self.samples[:, i-1] == condition)[0])\n",
    "        right_prob = 1 - left_prob\n",
    "        node.left = Node(prob=left_prob, index=i)\n",
    "        node.right = Node(prob=right_prob, index=i)\n",
    "        return node.left, node.right\n",
    "    \n",
    "    def solve(self, ):\n",
    "        q = queue.Queue()\n",
    "        self.root = Node()\n",
    "        left, right = self.start(self.root)\n",
    "        q.put(left)\n",
    "        q.put(right)\n",
    "                \n",
    "        while q.qsize() != 0:\n",
    "            for condition in [0, 1]:\n",
    "                temp_node = q.get()\n",
    "                if temp_node.index == self.n_samples - 1:\n",
    "                    continue\n",
    "                \n",
    "                if temp_node is None:\n",
    "                    continue\n",
    "                \n",
    "                left, right = self.fxn(temp_node, temp_node.index + 1, condition)\n",
    "                q.put(left)\n",
    "                q.put(right)\n",
    "                \n",
    "                \n",
    "        print(\"Done\")\n",
    "        return self.root\n",
    "        "
   ]
  },
  {
   "cell_type": "code",
   "execution_count": 100,
   "metadata": {},
   "outputs": [
    {
     "name": "stdout",
     "output_type": "stream",
     "text": [
      "Done\n"
     ]
    }
   ],
   "source": [
    "solver = Solver(samples=samples)\n",
    "root = solver.solve()"
   ]
  },
  {
   "cell_type": "code",
   "execution_count": 101,
   "metadata": {},
   "outputs": [],
   "source": [
    "def create_graph(node, graph=None):\n",
    "    if graph is None:\n",
    "        graph = graphviz.Digraph(format='png', graph_attr={'rankdir': 'LR'})\n",
    "\n",
    "    if node is not None:\n",
    "        graph.node(str(id(node)), \n",
    "                   label=f\"Prob: {node.prob:.4f}\" if node.prob is not None else 'Start',\n",
    "                   style='filled',\n",
    "                   fillcolor='lightblue' if node.prob is None else 'white')\n",
    "\n",
    "        if node.left is not None:\n",
    "            graph.edge(str(id(node)), str(id(node.left)), label='1')\n",
    "            create_graph(node.left, graph)\n",
    "\n",
    "        if node.right is not None:\n",
    "            graph.edge(str(id(node)), str(id(node.right)), label='0')\n",
    "            create_graph(node.right, graph)\n",
    "\n",
    "    return graph\n",
    "\n",
    "\n",
    "graph = create_graph(root)\n"
   ]
  },
  {
   "cell_type": "code",
   "execution_count": 103,
   "metadata": {},
   "outputs": [
    {
     "name": "stderr",
     "output_type": "stream",
     "text": [
      "dot: graph is too large for cairo-renderer bitmaps. Scaling by 0.889175 to fit\n"
     ]
    },
    {
     "data": {
      "text/plain": [
       "'tree_graph.png'"
      ]
     },
     "execution_count": 103,
     "metadata": {},
     "output_type": "execute_result"
    }
   ],
   "source": [
    "graph.render(\"tree_graph\", cleanup=True)"
   ]
  },
  {
   "cell_type": "code",
   "execution_count": 104,
   "metadata": {},
   "outputs": [],
   "source": [
    "def generate(root):\n",
    "    result = []\n",
    "    \n",
    "    def fxn(node):\n",
    "        if node is None or node.left is None or node.right is None:\n",
    "            return \n",
    "        out = np.random.binomial(1, node.left.prob, 1)[0]\n",
    "        result.append(out)\n",
    "        fxn(node.left if out == 1 else node.right)\n",
    "    \n",
    "    fxn(root)\n",
    "    return result            "
   ]
  },
  {
   "cell_type": "code",
   "execution_count": 138,
   "metadata": {},
   "outputs": [
    {
     "data": {
      "text/plain": [
       "[[0, 1, 0, 0, 1, 1, 0, 0, 1],\n",
       " [0, 1, 1, 0, 0, 1, 1, 1, 0],\n",
       " [0, 0, 0, 1, 0, 0, 0, 1, 1],\n",
       " [0, 0, 1, 1, 1, 1, 1, 1, 0],\n",
       " [1, 0, 0, 1, 1, 1, 0, 0, 1],\n",
       " [1, 1, 1, 0, 1, 1, 0, 1, 0],\n",
       " [1, 1, 0, 0, 0, 0, 0, 1, 0],\n",
       " [0, 1, 0, 0, 0, 0, 0, 0, 0],\n",
       " [0, 1, 0, 1, 1, 0, 1, 1, 0],\n",
       " [0, 0, 1, 1, 0, 0, 1, 0, 1]]"
      ]
     },
     "execution_count": 138,
     "metadata": {},
     "output_type": "execute_result"
    }
   ],
   "source": [
    "generated_samples = []\n",
    "\n",
    "for i in range(100):\n",
    "    generated_samples.append(generate(root))\n",
    "    \n",
    "generated_samples[:10]"
   ]
  },
  {
   "cell_type": "code",
   "execution_count": 139,
   "metadata": {},
   "outputs": [],
   "source": [
    "def find_intelligen_human(samples):\n",
    "    def has_101(arr):\n",
    "        for i in range(0, len(arr) - 2):\n",
    "            if [arr[i], arr[i+1], arr[i+2]] == [1, 0, 1]:\n",
    "                return True\n",
    "            \n",
    "        return False\n",
    "    \n",
    "    def has_11(arr):\n",
    "        for i in range(0, len(arr) - 1):\n",
    "            if [arr[i], arr[i + 1]] == [1, 1]:\n",
    "                return True\n",
    "            \n",
    "        return False\n",
    "    \n",
    "    counter = 0\n",
    "    for sample in samples:\n",
    "        counter += has_101(sample) & has_11(sample)\n",
    "        \n",
    "    print(f\"{counter} intelligent out of {len(samples)}\")"
   ]
  },
  {
   "cell_type": "code",
   "execution_count": 140,
   "metadata": {},
   "outputs": [
    {
     "name": "stdout",
     "output_type": "stream",
     "text": [
      "36 intelligent out of 100\n"
     ]
    }
   ],
   "source": [
    "find_intelligen_human(generated_samples)"
   ]
  },
  {
   "cell_type": "code",
   "execution_count": null,
   "metadata": {},
   "outputs": [],
   "source": []
  }
 ],
 "metadata": {
  "kernelspec": {
   "display_name": "Python 3 (ipykernel)",
   "language": "python",
   "name": "python3"
  },
  "language_info": {
   "codemirror_mode": {
    "name": "ipython",
    "version": 3
   },
   "file_extension": ".py",
   "mimetype": "text/x-python",
   "name": "python",
   "nbconvert_exporter": "python",
   "pygments_lexer": "ipython3",
   "version": "3.8.18"
  }
 },
 "nbformat": 4,
 "nbformat_minor": 4
}
