{
 "cells": [
  {
   "cell_type": "markdown",
   "metadata": {},
   "source": [
    "# Assignment 1\n",
    "Course: Mathematics of Generative Models \\\n",
    "Name: Md Faizal Karim \\\n",
    "Roll No: 2022121004"
   ]
  },
  {
   "cell_type": "code",
   "execution_count": 2,
   "metadata": {},
   "outputs": [
    {
     "data": {
      "text/plain": [
       "'1.24.4'"
      ]
     },
     "execution_count": 2,
     "metadata": {},
     "output_type": "execute_result"
    }
   ],
   "source": [
    "import numpy as np\n",
    "import matplotlib.pyplot as plt\n",
    "import seaborn as sea\n",
    "\n",
    "plt.style.use('seaborn-v0_8')\n",
    "np.__version__"
   ]
  },
  {
   "cell_type": "markdown",
   "metadata": {
    "jp-MarkdownHeadingCollapsed": true
   },
   "source": [
    "## Problem 1"
   ]
  },
  {
   "cell_type": "markdown",
   "metadata": {},
   "source": [
    "<img src= './soln1.jpeg' width='60%'>\n",
    "Hence, we obtain p = 2/3"
   ]
  },
  {
   "cell_type": "markdown",
   "metadata": {},
   "source": [
    "#### Simulating a Bernoulli random variable (p = 2/3) using numpy"
   ]
  },
  {
   "cell_type": "code",
   "execution_count": 224,
   "metadata": {},
   "outputs": [
    {
     "name": "stdout",
     "output_type": "stream",
     "text": [
      "['B', 'B', 'G', 'B', 'B', 'B', 'G', 'G', 'B', 'B', 'G', 'G', 'G', 'G', 'G', 'G', 'B', 'G', 'B', 'G', 'G', 'G', 'B', 'G', 'G', 'G', 'G', 'B', 'G', 'B']\n"
     ]
    }
   ],
   "source": [
    "x = np.random.binomial(n = 1, p = 2/3, size=30)\n",
    "x = ['G' if i == 1 else 'B' for i in x]\n",
    "\n",
    "print(x)"
   ]
  },
  {
   "cell_type": "markdown",
   "metadata": {
    "jp-MarkdownHeadingCollapsed": true
   },
   "source": [
    "## Problem 2"
   ]
  },
  {
   "cell_type": "code",
   "execution_count": 221,
   "metadata": {},
   "outputs": [],
   "source": [
    "def generate(n, samples, plot_cdf=False):\n",
    "    \"\"\"\n",
    "    Input:\n",
    "        n: n-sided die,\n",
    "        samples: outcome of k trials\n",
    "        plot_cdf: plot the cdf?\n",
    "    Returns:\n",
    "        out: a random sample from the calculated distribution\n",
    "    \"\"\"\n",
    "    \n",
    "    pmf = np.histogram(samples, bins=n)[0]/len(a)\n",
    "    cdf = np.cumsum(pmf)\n",
    "\n",
    "    if plot_cdf:\n",
    "        plt.title('CDF plot')\n",
    "        plt.plot(cdf, label='cdf')\n",
    "        plt.legend()\n",
    "        plt.show()\n",
    "\n",
    "    u = np.random.uniform(0, 1, 1)\n",
    "    out = np.abs(cdf - u)\n",
    "    out = np.where(np.abs(out - np.min(out)) < 1e-5)[0] + 1\n",
    "\n",
    "    return out[np.random.choice(1, len(out))] if len(out) != 1 else out\n",
    "    "
   ]
  },
  {
   "cell_type": "code",
   "execution_count": 219,
   "metadata": {},
   "outputs": [
    {
     "name": "stdout",
     "output_type": "stream",
     "text": [
      "[2]\n",
      "[2]\n",
      "[4]\n",
      "[2]\n",
      "[1]\n",
      "[2]\n",
      "[1]\n",
      "[4]\n",
      "[6]\n",
      "[2]\n"
     ]
    }
   ],
   "source": [
    "samples = [1, 3, 2, 4, 2, 3, 5, 7, 3, 2]\n",
    "\n",
    "for i in range(10):\n",
    "    print(generate(n=6, samples=samples))"
   ]
  },
  {
   "cell_type": "markdown",
   "metadata": {},
   "source": [
    "## Problem 3"
   ]
  },
  {
   "cell_type": "code",
   "execution_count": null,
   "metadata": {},
   "outputs": [],
   "source": []
  }
 ],
 "metadata": {
  "kernelspec": {
   "display_name": "Python 3 (ipykernel)",
   "language": "python",
   "name": "python3"
  },
  "language_info": {
   "codemirror_mode": {
    "name": "ipython",
    "version": 3
   },
   "file_extension": ".py",
   "mimetype": "text/x-python",
   "name": "python",
   "nbconvert_exporter": "python",
   "pygments_lexer": "ipython3",
   "version": "3.8.18"
  }
 },
 "nbformat": 4,
 "nbformat_minor": 4
}
