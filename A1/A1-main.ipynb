{
 "cells": [
  {
   "cell_type": "markdown",
   "metadata": {},
   "source": [
    "# Assignment 1\n",
    "Course: Mathematics of Generative Models \\\n",
    "Name: Md Faizal Karim \\\n",
    "Roll No: 2022121004"
   ]
  },
  {
   "cell_type": "code",
   "execution_count": 91,
   "metadata": {},
   "outputs": [
    {
     "data": {
      "text/plain": [
       "'1.24.4'"
      ]
     },
     "execution_count": 91,
     "metadata": {},
     "output_type": "execute_result"
    }
   ],
   "source": [
    "import numpy as np\n",
    "import matplotlib.pyplot as plt\n",
    "import seaborn as sea\n",
    "import queue\n",
    "import graphviz\n",
    "\n",
    "plt.style.use('seaborn-v0_8')\n",
    "np.__version__"
   ]
  },
  {
   "cell_type": "markdown",
   "metadata": {
    "jp-MarkdownHeadingCollapsed": true
   },
   "source": [
    "## Problem 1"
   ]
  },
  {
   "cell_type": "markdown",
   "metadata": {},
   "source": [
    "<img src= './soln1.jpeg' width='60%'>\n",
    "Hence, we obtain p = 2/3"
   ]
  },
  {
   "cell_type": "markdown",
   "metadata": {},
   "source": [
    "#### Simulating a Bernoulli random variable (p = 2/3) using numpy"
   ]
  },
  {
   "cell_type": "code",
   "execution_count": 2,
   "metadata": {},
   "outputs": [
    {
     "name": "stdout",
     "output_type": "stream",
     "text": [
      "['G', 'G', 'B', 'G', 'G', 'B', 'G', 'B', 'B', 'G', 'G', 'G', 'B', 'B', 'G', 'G', 'B', 'G', 'B', 'B', 'B', 'B', 'G', 'G', 'G', 'G', 'G', 'G', 'B', 'B']\n"
     ]
    }
   ],
   "source": [
    "x = np.random.binomial(n = 1, p = 2/3, size=30)\n",
    "x = ['G' if i == 1 else 'B' for i in x]\n",
    "\n",
    "print(x)"
   ]
  },
  {
   "cell_type": "markdown",
   "metadata": {
    "jp-MarkdownHeadingCollapsed": true
   },
   "source": [
    "## Problem 2"
   ]
  },
  {
   "cell_type": "code",
   "execution_count": 5,
   "metadata": {},
   "outputs": [],
   "source": [
    "def generate(n, samples, plot_cdf=False):\n",
    "    \"\"\"\n",
    "    Input:\n",
    "        n: n-sided die,\n",
    "        samples: outcome of k trials\n",
    "        plot_cdf: plot the cdf?\n",
    "    Returns:\n",
    "        out: a random sample from the calculated distribution\n",
    "    \"\"\"\n",
    "    \n",
    "    pmf = np.histogram(samples, bins=n)[0]/len(samples)\n",
    "    cdf = np.cumsum(pmf)\n",
    "\n",
    "    if plot_cdf:\n",
    "        plt.title('CDF plot')\n",
    "        plt.plot(cdf, label='cdf')\n",
    "        plt.legend()\n",
    "        plt.show()\n",
    "\n",
    "    u = np.random.uniform(0, 1, 1)\n",
    "    out = np.abs(cdf - u)\n",
    "    out = np.where(np.abs(out - np.min(out)) < 1e-5)[0] + 1\n",
    "\n",
    "    return out[np.random.choice(1, len(out))] if len(out) != 1 else out\n",
    "    "
   ]
  },
  {
   "cell_type": "code",
   "execution_count": 6,
   "metadata": {},
   "outputs": [
    {
     "name": "stdout",
     "output_type": "stream",
     "text": [
      "[3]\n",
      "[2]\n",
      "[1]\n",
      "[2]\n",
      "[3]\n",
      "[5]\n",
      "[6]\n",
      "[1]\n",
      "[4]\n",
      "[2]\n"
     ]
    }
   ],
   "source": [
    "samples = [1, 3, 2, 4, 2, 3, 5, 7, 3, 2]\n",
    "\n",
    "for i in range(10):\n",
    "    print(generate(n=6, samples=samples))"
   ]
  },
  {
   "cell_type": "markdown",
   "metadata": {},
   "source": [
    "## Problem 3"
   ]
  },
  {
   "cell_type": "code",
   "execution_count": 174,
   "metadata": {},
   "outputs": [],
   "source": [
    "samples = np.array([\n",
    "    [1, 0, 1, 0, 0, 1, 1, 0, 0, 1],\n",
    "    [0, 0, 1, 1, 0, 1, 0, 1, 0, 0],\n",
    "    [1, 1, 0, 1, 0, 0, 0, 0, 0, 0],\n",
    "    [0, 0, 0, 1, 0, 1, 0, 0, 1, 1],\n",
    "    [0, 0, 0, 0, 0, 0, 1, 0, 1, 1],\n",
    "    [1, 1, 1, 0, 0, 1, 0, 1, 0, 0],\n",
    "    [1, 0, 1, 0, 1, 0, 1, 1, 1, 1],\n",
    "    [0, 0, 0, 0, 1, 1, 0, 1, 0, 0],\n",
    "    [0, 0, 0, 1, 0, 0, 1, 0, 1, 1],\n",
    "    [1, 1, 0, 0, 1, 1, 0, 1, 1, 1],\n",
    "    [0, 1, 0, 0, 1, 0, 1, 1, 1, 1],\n",
    "    [0, 1, 1, 1, 1, 1, 1, 0, 1, 0]])\n",
    "\n",
    "class Node:\n",
    "    def __init__(self, prob=None, index=0, is_leaf=False):\n",
    "        self.prob = prob\n",
    "        self.is_leaf = is_leaf\n",
    "        self.left = None\n",
    "        self.right = None\n",
    "        self.index = index\n",
    "\n",
    "# samples = samples[:, 0:8]\n",
    "# samples, len(samples[0])"
   ]
  },
  {
   "cell_type": "code",
   "execution_count": 175,
   "metadata": {},
   "outputs": [],
   "source": [
    "def fxn(node, i, condition):\n",
    "    left_prob = len(np.where((samples[:, i] == 1) & (samples[:, i-1] == condition))[0])/len(np.where(samples[:, i-1] == condition)[0])\n",
    "    right_prob = 1 - left_prob\n",
    "    left_node, right_node = Node(prob=left_prob, index=i), Node(prob=right_prob, index=i)\n",
    "    node.left = left_node\n",
    "    node.right = right_node\n",
    "    \n",
    "    return left_node, right_node\n",
    "\n",
    "\n",
    "def start(node):\n",
    "    left_prob = len(np.where(samples[:, 0] == 1)[0])/len(samples)\n",
    "    right_prob = len(np.where(samples[:, 0] == 0)[0])/len(samples)\n",
    "    node.left = Node(prob=left_prob, index=1)\n",
    "    node.right = Node(prob=right_prob, index=1)\n",
    "    return node.left, node.right\n",
    "\n",
    "\n",
    "node = Node()\n",
    "q = queue.Queue()\n",
    "\n",
    "left, right = start(node)\n",
    "q.put(left)\n",
    "q.put(right)"
   ]
  },
  {
   "cell_type": "code",
   "execution_count": 176,
   "metadata": {},
   "outputs": [
    {
     "data": {
      "text/plain": [
       "1"
      ]
     },
     "execution_count": 176,
     "metadata": {},
     "output_type": "execute_result"
    }
   ],
   "source": [
    "node.right.index"
   ]
  },
  {
   "cell_type": "code",
   "execution_count": 177,
   "metadata": {},
   "outputs": [],
   "source": [
    "\n",
    "while q.qsize() != 0:\n",
    "    for condition in [0, 1]:\n",
    "        temp_node = q.get()\n",
    "        if temp_node.index == len(samples[0])-1:\n",
    "            continue\n",
    "        \n",
    "        if temp_node is None:\n",
    "            continue\n",
    "        \n",
    "        left, right = fxn(temp_node, temp_node.index + 1, condition)\n",
    "        q.put(left)\n",
    "        q.put(right)\n",
    "        "
   ]
  },
  {
   "cell_type": "code",
   "execution_count": 178,
   "metadata": {},
   "outputs": [],
   "source": [
    "def create_graph(node, graph=None):\n",
    "    if graph is None:\n",
    "        graph = graphviz.Digraph(format='png', graph_attr={'rankdir': 'LR'})\n",
    "\n",
    "    if node is not None:\n",
    "        graph.node(str(id(node)), \n",
    "                   label=f\"Prob: {node.prob:.4f}\" if node.prob is not None else 'Start',\n",
    "                   style='filled',\n",
    "                   fillcolor='lightblue' if node.prob is None else 'white')\n",
    "\n",
    "        if node.left is not None:\n",
    "            graph.edge(str(id(node)), str(id(node.left)), label='1')\n",
    "            create_graph(node.left, graph)\n",
    "\n",
    "        if node.right is not None:\n",
    "            graph.edge(str(id(node)), str(id(node.right)), label='0')\n",
    "            create_graph(node.right, graph)\n",
    "\n",
    "    return graph\n",
    "\n",
    "\n",
    "graph = create_graph(node)\n"
   ]
  },
  {
   "cell_type": "code",
   "execution_count": 179,
   "metadata": {},
   "outputs": [
    {
     "name": "stderr",
     "output_type": "stream",
     "text": [
      "dot: graph is too large for cairo-renderer bitmaps. Scaling by 0.889175 to fit\n"
     ]
    },
    {
     "data": {
      "text/plain": [
       "'tree_graph.png'"
      ]
     },
     "execution_count": 179,
     "metadata": {},
     "output_type": "execute_result"
    }
   ],
   "source": [
    "graph.render(\"tree_graph\")"
   ]
  },
  {
   "cell_type": "code",
   "execution_count": 97,
   "metadata": {},
   "outputs": [],
   "source": [
    "node.left"
   ]
  },
  {
   "cell_type": "code",
   "execution_count": null,
   "metadata": {},
   "outputs": [],
   "source": []
  }
 ],
 "metadata": {
  "kernelspec": {
   "display_name": "Python 3 (ipykernel)",
   "language": "python",
   "name": "python3"
  },
  "language_info": {
   "codemirror_mode": {
    "name": "ipython",
    "version": 3
   },
   "file_extension": ".py",
   "mimetype": "text/x-python",
   "name": "python",
   "nbconvert_exporter": "python",
   "pygments_lexer": "ipython3",
   "version": "3.8.18"
  }
 },
 "nbformat": 4,
 "nbformat_minor": 4
}
