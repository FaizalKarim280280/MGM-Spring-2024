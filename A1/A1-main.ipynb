{
 "cells": [
  {
   "cell_type": "markdown",
   "metadata": {},
   "source": [
    "# Assignment 1\n",
    "Course: Mathematics of Generative Models \\\n",
    "Name: Md Faizal Karim \\\n",
    "Roll No: 2022121004"
   ]
  },
  {
   "cell_type": "code",
   "execution_count": 80,
   "metadata": {},
   "outputs": [
    {
     "data": {
      "text/plain": [
       "'1.24.4'"
      ]
     },
     "execution_count": 80,
     "metadata": {},
     "output_type": "execute_result"
    }
   ],
   "source": [
    "import numpy as np\n",
    "import matplotlib.pyplot as plt\n",
    "import seaborn as sea\n",
    "import queue\n",
    "import graphviz\n",
    "\n",
    "plt.style.use('seaborn-v0_8')           \n",
    "np.__version__"
   ]
  },
  {
   "cell_type": "markdown",
   "metadata": {},
   "source": [
    "## Problem 1"
   ]
  },
  {
   "cell_type": "markdown",
   "metadata": {},
   "source": [
    "Since, the total number of balls is not given, we will assume that our total number of balls is large, ie, $(n \\rightarrow \\infty) $ "
   ]
  },
  {
   "cell_type": "markdown",
   "metadata": {},
   "source": [
    "<img src= './soln1.jpeg' width='60%'>\n",
    "\n",
    "Hence, we obtain p = 2/3"
   ]
  },
  {
   "cell_type": "markdown",
   "metadata": {},
   "source": [
    "#### Simulating a Bernoulli random variable (p = 2/3) using numpy"
   ]
  },
  {
   "cell_type": "code",
   "execution_count": 81,
   "metadata": {},
   "outputs": [
    {
     "name": "stdout",
     "output_type": "stream",
     "text": [
      "['G', 'G', 'G', 'G', 'B', 'B', 'G', 'G', 'G', 'B', 'G', 'G', 'G', 'G', 'G', 'G', 'B', 'G', 'B', 'G', 'G', 'G', 'B', 'B', 'B', 'B', 'G', 'G', 'B', 'G']\n"
     ]
    }
   ],
   "source": [
    "x = np.random.binomial(n = 1, p = 2/3, size=30)\n",
    "x = ['G' if i == 1 else 'B' for i in x]\n",
    "\n",
    "print(x)"
   ]
  },
  {
   "cell_type": "markdown",
   "metadata": {
    "jp-MarkdownHeadingCollapsed": true
   },
   "source": [
    "## Problem 2"
   ]
  },
  {
   "cell_type": "code",
   "execution_count": 82,
   "metadata": {},
   "outputs": [],
   "source": [
    "def generate(n, samples, plot_cdf=False):\n",
    "    \"\"\"\n",
    "    Input:\n",
    "        n: n-sided die,\n",
    "        samples: outcome of k trials\n",
    "        plot_cdf: plot the cdf?\n",
    "    Returns:\n",
    "        out: a random sample from the calculated distribution\n",
    "    \"\"\"\n",
    "    \n",
    "    pmf = np.histogram(samples, bins=n)[0]/len(samples)\n",
    "    cdf = np.cumsum(pmf)\n",
    "\n",
    "    if plot_cdf:\n",
    "        plt.title('CDF plot')\n",
    "        plt.plot(cdf, label='cdf')\n",
    "        plt.legend()\n",
    "        plt.show()\n",
    "\n",
    "    u = np.random.uniform(0, 1, 1)\n",
    "    out = np.abs(cdf - u)\n",
    "    out = np.where(np.abs(out - np.min(out)) < 1e-5)[0] + 1\n",
    "\n",
    "    return out[np.random.choice(1, len(out))] if len(out) != 1 else out\n",
    "    "
   ]
  },
  {
   "cell_type": "code",
   "execution_count": 84,
   "metadata": {},
   "outputs": [
    {
     "data": {
      "image/png": "[encoded data removed]",
      "text/plain": [
       "<Figure size 800x550 with 1 Axes>"
      ]
     },
     "metadata": {},
     "output_type": "display_data"
    },
    {
     "name": "stdout",
     "output_type": "stream",
     "text": [
      "Generated samples\n",
      "[2]\n",
      "[1]\n",
      "[4]\n",
      "[4]\n",
      "[3]\n",
      "[2]\n",
      "[3]\n",
      "[1]\n",
      "[1]\n",
      "[3]\n"
     ]
    }
   ],
   "source": [
    "samples = [1, 3, 2, 4, 2, 3, 5, 7, 3, 2]\n",
    "generate(n=6, samples=samples, plot_cdf=True)\n",
    "\n",
    "print(\"Generated samples\")\n",
    "\n",
    "for i in range(10):\n",
    "    print(generate(n=6, samples=samples))"
   ]
  },
  {
   "cell_type": "markdown",
   "metadata": {},
   "source": [
    "## Problem 3"
   ]
  },
  {
   "cell_type": "code",
   "execution_count": 85,
   "metadata": {},
   "outputs": [],
   "source": [
    "samples = np.array([\n",
    "    [1, 0, 1, 0, 0, 1, 1, 0, 0, 1],\n",
    "    [0, 0, 1, 1, 0, 1, 0, 1, 0, 0],\n",
    "    [1, 1, 0, 1, 0, 0, 0, 0, 0, 0],\n",
    "    [0, 0, 0, 1, 0, 1, 0, 0, 1, 1],\n",
    "    [0, 0, 0, 0, 0, 0, 1, 0, 1, 1],\n",
    "    [1, 1, 1, 0, 0, 1, 0, 1, 0, 0],\n",
    "    [1, 0, 1, 0, 1, 0, 1, 1, 1, 1],\n",
    "    [0, 0, 0, 0, 1, 1, 0, 1, 0, 0],\n",
    "    [0, 0, 0, 1, 0, 0, 1, 0, 1, 1],\n",
    "    [1, 1, 0, 0, 1, 1, 0, 1, 1, 1],\n",
    "    [0, 1, 0, 0, 1, 0, 1, 1, 1, 1],\n",
    "    [0, 1, 1, 1, 1, 1, 1, 0, 1, 0]])\n",
    "\n",
    "class Node:\n",
    "    def __init__(self, prob=None, index=0, is_leaf=False, condition=None):\n",
    "        self.prob = prob\n",
    "        self.is_leaf = is_leaf\n",
    "        self.left = None\n",
    "        self.right = None\n",
    "        self.index = index\n",
    "        self.condition = condition\n",
    "        \n",
    "    def __repr__(self):\n",
    "        prob = 0 if self.prob is None else self.prob\n",
    "        return f\"node: {id(self)}, prob:{prob:.4f}, index:{self.index}\"\n",
    "        "
   ]
  },
  {
   "cell_type": "code",
   "execution_count": 86,
   "metadata": {},
   "outputs": [],
   "source": [
    "\n",
    "class SolverMarkov:\n",
    "    def __init__(self, samples):\n",
    "        self.samples = samples\n",
    "        self.n_samples = len(samples[0])\n",
    "        self.root = None\n",
    "        \n",
    "    def start(self, node):\n",
    "        left_prob = len(np.where(self.samples[:, 0] == 1)[0])/len(self.samples)\n",
    "        right_prob = 1 - left_prob\n",
    "        node.left = Node(prob=left_prob, index=0)\n",
    "        node.right = Node(prob=right_prob, index=0)\n",
    "        return node.left, node.right\n",
    "    \n",
    "    def fxn(self, node, i, condition):\n",
    "        left_prob = len(np.where((self.samples[:, i] == 1) & (self.samples[:, i-1] == condition))[0])/len(np.where(self.samples[:, i-1] == condition)[0])\n",
    "        right_prob = 1 - left_prob\n",
    "        node.left = Node(prob=left_prob, index=i)\n",
    "        node.right = Node(prob=right_prob, index=i)\n",
    "        return node.left, node.right\n",
    "    \n",
    "    def solve(self, ):\n",
    "        q = queue.Queue()\n",
    "        self.root = Node()\n",
    "        left, right = self.start(self.root)\n",
    "        q.put(left)\n",
    "        q.put(right)\n",
    "                \n",
    "        while q.qsize() != 0:\n",
    "            for condition in [1, 0]:\n",
    "                temp_node = q.get()\n",
    "                if temp_node.index == self.n_samples - 1:\n",
    "                    continue\n",
    "                \n",
    "                if temp_node is None:\n",
    "                    continue\n",
    "                \n",
    "                left, right = self.fxn(temp_node, temp_node.index + 1, condition)\n",
    "                q.put(left)\n",
    "                q.put(right)\n",
    "                \n",
    "                \n",
    "        print(\"Done\")\n",
    "        return self.root\n",
    "        "
   ]
  },
  {
   "cell_type": "code",
   "execution_count": 87,
   "metadata": {},
   "outputs": [
    {
     "name": "stdout",
     "output_type": "stream",
     "text": [
      "Done\n"
     ]
    }
   ],
   "source": [
    "solver = SolverMarkov(samples=samples)\n",
    "root = solver.solve()"
   ]
  },
  {
   "cell_type": "code",
   "execution_count": 88,
   "metadata": {},
   "outputs": [],
   "source": [
    "def create_graph(node, graph=None):\n",
    "    if graph is None:\n",
    "        graph = graphviz.Digraph(format='png', graph_attr={'rankdir': 'LR'})\n",
    "\n",
    "    if node is not None:\n",
    "        graph.node(str(id(node)), \n",
    "                   label=f\"Prob: {node.prob:.4f}\" if node.prob is not None else 'Start',\n",
    "                   style='filled',\n",
    "                   fillcolor='lightblue' if node.prob is None else 'white')\n",
    "\n",
    "        if node.left is not None:\n",
    "            graph.edge(str(id(node)), str(id(node.left)), label='1')\n",
    "            create_graph(node.left, graph)\n",
    "\n",
    "        if node.right is not None:\n",
    "            graph.edge(str(id(node)), str(id(node.right)), label='0')\n",
    "            create_graph(node.right, graph)\n",
    "\n",
    "    return graph\n",
    "\n",
    "\n",
    "graph = create_graph(root)\n"
   ]
  },
  {
   "cell_type": "code",
   "execution_count": 89,
   "metadata": {},
   "outputs": [
    {
     "name": "stderr",
     "output_type": "stream",
     "text": [
      "dot: graph is too large for cairo-renderer bitmaps. Scaling by 0.444509 to fit\n"
     ]
    },
    {
     "data": {
      "text/plain": [
       "'tree_graph.png'"
      ]
     },
     "execution_count": 89,
     "metadata": {},
     "output_type": "execute_result"
    }
   ],
   "source": [
    "graph.render(\"tree_graph\", cleanup=True)"
   ]
  },
  {
   "cell_type": "code",
   "execution_count": 90,
   "metadata": {},
   "outputs": [],
   "source": [
    "def generate(root):\n",
    "    result = []\n",
    "    \n",
    "    def fxn(node):\n",
    "        if node is None or node.left is None or node.right is None:\n",
    "            return \n",
    "        out = np.random.binomial(1, node.left.prob, 1)[0]\n",
    "        result.append(out)\n",
    "        fxn(node.left if out == 1 else node.right)\n",
    "    \n",
    "    fxn(root)\n",
    "    return result            "
   ]
  },
  {
   "cell_type": "code",
   "execution_count": 91,
   "metadata": {},
   "outputs": [
    {
     "data": {
      "text/plain": [
       "[[0, 0, 0, 0, 1, 1, 0, 0, 1, 1],\n",
       " [1, 1, 0, 0, 1, 0, 0, 1, 1, 0],\n",
       " [1, 1, 1, 1, 0, 0, 1, 1, 1, 1],\n",
       " [0, 0, 1, 0, 0, 0, 1, 1, 1, 1],\n",
       " [0, 1, 1, 1, 1, 1, 1, 0, 1, 1],\n",
       " [1, 1, 1, 1, 0, 1, 0, 0, 1, 1],\n",
       " [0, 0, 0, 1, 0, 1, 0, 0, 0, 0],\n",
       " [0, 0, 0, 0, 0, 0, 1, 0, 1, 0],\n",
       " [1, 0, 1, 1, 0, 1, 0, 1, 1, 1],\n",
       " [1, 0, 0, 0, 0, 0, 1, 0, 0, 0]]"
      ]
     },
     "execution_count": 91,
     "metadata": {},
     "output_type": "execute_result"
    }
   ],
   "source": [
    "generated_samples_markov = []\n",
    "\n",
    "for i in range(1000):\n",
    "    generated_samples_markov.append(generate(root))\n",
    "    \n",
    "generated_samples_markov[:10]"
   ]
  },
  {
   "cell_type": "code",
   "execution_count": 92,
   "metadata": {},
   "outputs": [],
   "source": [
    "def find_intelligen_human(samples, only_101=False, only_11=False, output=True):\n",
    "    def has_101(arr):\n",
    "        for i in range(0, len(arr) - 2):\n",
    "            if [arr[i], arr[i+1], arr[i+2]] == [1, 0, 1]:\n",
    "                return True\n",
    "            \n",
    "        return False\n",
    "    \n",
    "    def has_11(arr):\n",
    "        for i in range(0, len(arr) - 1):\n",
    "            if [arr[i], arr[i + 1]] == [1, 1]:\n",
    "                return True\n",
    "            \n",
    "        return False\n",
    "    \n",
    "    counter = 0\n",
    "    for sample in samples:\n",
    "        if only_101:\n",
    "            counter += has_101(sample)\n",
    "        elif only_11:\n",
    "            counter += has_11(sample)\n",
    "        else:\n",
    "            counter += has_101(sample) & has_11(sample)\n",
    "    if output:\n",
    "        print(f\"{counter} intelligent out of {len(samples)}\")\n",
    "    else:\n",
    "        return counter\n",
    "    "
   ]
  },
  {
   "cell_type": "code",
   "execution_count": 93,
   "metadata": {},
   "outputs": [
    {
     "name": "stdout",
     "output_type": "stream",
     "text": [
      "667 intelligent out of 1000\n"
     ]
    }
   ],
   "source": [
    "find_intelligen_human(generated_samples_markov)"
   ]
  },
  {
   "cell_type": "code",
   "execution_count": 94,
   "metadata": {},
   "outputs": [],
   "source": [
    "\n",
    "class SolverTwo:\n",
    "    def __init__(self, samples):\n",
    "        self.samples = samples\n",
    "        self.n_samples = len(samples[0])\n",
    "        self.root = None\n",
    "        \n",
    "    def start(self, node):\n",
    "        left_prob = len(np.where(self.samples[:, 0] == 1)[0])/len(self.samples)\n",
    "        right_prob = 1 - left_prob\n",
    "        node.left = Node(prob=left_prob, index=0, condition=[1])\n",
    "        node.right = Node(prob=right_prob, index=0, condition=[0])\n",
    "        return node.left, node.right\n",
    "\n",
    "    def find(self, i, targets, extra=True, return_indices=False):\n",
    "        condition = True\n",
    "        for idx, target in enumerate(reversed(targets)):\n",
    "            condition = condition & (self.samples[:, i-idx-1] == target)\n",
    "        \n",
    "        condition = condition & extra\n",
    "        if return_indices:\n",
    "            return np.where(condition)[0]\n",
    "        else:\n",
    "            return len(np.where(condition)[0])\n",
    "    \n",
    "    def fxn(self, node, i, condition):\n",
    "        n_samples = self.find(i-1, condition)\n",
    "        \n",
    "        left_prob = self.find(i-1, condition, extra=self.samples[:, i] == 1)/n_samples\n",
    "        right_prob = 1 - left_prob\n",
    "        \n",
    "        node.left = Node(prob=left_prob, index=i, condition=[condition[-1], 1])\n",
    "        node.right = Node(prob=right_prob, index=i, condition=[condition[-1], 0])\n",
    "        \n",
    "        return node.left, node.right\n",
    "    \n",
    "    def solve(self, ):\n",
    "        q = queue.Queue()\n",
    "        self.root = Node()\n",
    "        left, right = self.start(self.root)\n",
    "        \n",
    "        left.left, left.right = self.fxn(left, left.index + 1, condition=[1])\n",
    "        right.left, right.right = self.fxn(right, right.index + 1, condition=[0])\n",
    "        \n",
    "        q.put(left.left)\n",
    "        q.put(left.right)\n",
    "        q.put(right.left)\n",
    "        q.put(right.right)   \n",
    "                        \n",
    "        while q.qsize() != 0:\n",
    "            temp_node = q.get()\n",
    "            if temp_node.index == self.n_samples - 1 or temp_node is None:\n",
    "                continue\n",
    "            \n",
    "            left, right = self.fxn(temp_node, temp_node.index + 1, condition=temp_node.condition)\n",
    "            q.put(left)\n",
    "            q.put(right)    \n",
    "                \n",
    "        print(\"Done\")\n",
    "        return self.root\n",
    "        "
   ]
  },
  {
   "cell_type": "code",
   "execution_count": 95,
   "metadata": {},
   "outputs": [
    {
     "data": {
      "text/plain": [
       "<__main__.SolverTwo at 0x7f532845ca30>"
      ]
     },
     "execution_count": 95,
     "metadata": {},
     "output_type": "execute_result"
    }
   ],
   "source": [
    "solver = SolverTwo(samples=samples)\n",
    "solver"
   ]
  },
  {
   "cell_type": "code",
   "execution_count": 96,
   "metadata": {},
   "outputs": [
    {
     "name": "stdout",
     "output_type": "stream",
     "text": [
      "Done\n"
     ]
    }
   ],
   "source": [
    "root = solver.solve()"
   ]
  },
  {
   "cell_type": "code",
   "execution_count": 97,
   "metadata": {},
   "outputs": [
    {
     "data": {
      "text/plain": [
       "[[0, 1, 0, 0, 0, 1, 0, 1, 1, 1],\n",
       " [0, 0, 1, 0, 1, 0, 0, 0, 0, 0],\n",
       " [0, 1, 0, 0, 1, 0, 0, 0, 0, 0],\n",
       " [0, 1, 0, 0, 0, 0, 1, 0, 0, 0],\n",
       " [1, 0, 0, 1, 0, 1, 1, 0, 1, 1],\n",
       " [0, 1, 1, 0, 0, 0, 1, 0, 0, 0],\n",
       " [0, 1, 0, 0, 0, 1, 1, 1, 0, 1],\n",
       " [1, 0, 0, 1, 0, 1, 1, 1, 1, 1],\n",
       " [1, 1, 0, 0, 0, 1, 0, 1, 1, 1],\n",
       " [1, 0, 0, 0, 0, 1, 0, 1, 1, 1]]"
      ]
     },
     "execution_count": 97,
     "metadata": {},
     "output_type": "execute_result"
    }
   ],
   "source": [
    "generated_samples_two = []\n",
    "\n",
    "for i in range(1000):\n",
    "    generated_samples_two.append(generate(root))\n",
    "    \n",
    "generated_samples_two[:10]\n"
   ]
  },
  {
   "cell_type": "code",
   "execution_count": 98,
   "metadata": {},
   "outputs": [
    {
     "name": "stdout",
     "output_type": "stream",
     "text": [
      "531 intelligent out of 1000\n"
     ]
    }
   ],
   "source": [
    "find_intelligen_human(generated_samples_two)\n"
   ]
  },
  {
   "cell_type": "code",
   "execution_count": 99,
   "metadata": {},
   "outputs": [],
   "source": [
    "markov_11 = find_intelligen_human(generated_samples_markov, only_11=True, output=False)\n",
    "markov_101 = find_intelligen_human(generated_samples_markov, only_101=True, output=False)\n",
    "markov_both = find_intelligen_human(generated_samples_markov, output=False)\n",
    "\n",
    "two_11 = find_intelligen_human(generated_samples_two, only_11=True, output=False)\n",
    "two_101 = find_intelligen_human(generated_samples_two, only_101=True, output=False)\n",
    "two_both = find_intelligen_human(generated_samples_two, output=False)\n"
   ]
  },
  {
   "cell_type": "code",
   "execution_count": 100,
   "metadata": {},
   "outputs": [
    {
     "name": "stdout",
     "output_type": "stream",
     "text": [
      "Markov assumption:\n",
      "Number of 11: 871 \n",
      "Number of 101: 747\n",
      "Number of both: 667\n",
      "--------------------------------------------------\n",
      "Two Previous:\n",
      "Number of 11: 797\n",
      "Number of 101: 593\n",
      "Number of both: 531\n"
     ]
    }
   ],
   "source": [
    "print(\"Markov assumption:\")\n",
    "print(f\"Number of 11: {markov_11} \")\n",
    "print(f\"Number of 101: {markov_101}\")\n",
    "print(f\"Number of both: {markov_both}\")\n",
    "\n",
    "print('-'  * 50)\n",
    "print(\"Two Previous:\")\n",
    "print(f\"Number of 11: {two_11}\")\n",
    "print(f\"Number of 101: {two_101}\")\n",
    "print(f\"Number of both: {two_both}\")\n"
   ]
  },
  {
   "cell_type": "markdown",
   "metadata": {},
   "source": [
    "From the abovel, we can observe that markov as well conditioning on previous two gives almost the same results, while markov assumption giving slightly more positive results.\n",
    "\n",
    "Moreover, it is difficult to estimate how many previous samples we need to condition on to indentify a string of length l. As mentioned in class, the ordering of samples would also matter in such cases. One approach can be to start from the middle of the string and compute MLE while moving away on both the directions from the center. It is difficult to give any concrete idea as it highly depends on the type data and the problem we are trying to solve. \n",
    "\n",
    "\n",
    "For gray scale images, we can discretize the pixel value into bins and then do MLE using a Binomial Distribution. In this case, markov assumption wouldn't be a good idea as we intuitively know that pixels depend on the neighbourhood and not just the previous pixel. Hence, we could condition a pixel on a patch around it and then compute MLE. Also, we can assume a gaussian distribution as our parametric distribution centered about a pixel and spreading over a small patch around that pixel. Basically, the idea would be to learn the neighbourhood dependency of each pixel as done in powerful models like CNN. "
   ]
  },
  {
   "cell_type": "code",
   "execution_count": null,
   "metadata": {},
   "outputs": [],
   "source": []
  }
 ],
 "metadata": {
  "kernelspec": {
   "display_name": "Python 3 (ipykernel)",
   "language": "python",
   "name": "python3"
  },
  "language_info": {
   "codemirror_mode": {
    "name": "ipython",
    "version": 3
   },
   "file_extension": ".py",
   "mimetype": "text/x-python",
   "name": "python",
   "nbconvert_exporter": "python",
   "pygments_lexer": "ipython3",
   "version": "3.8.18"
  }
 },
 "nbformat": 4,
 "nbformat_minor": 4
}
