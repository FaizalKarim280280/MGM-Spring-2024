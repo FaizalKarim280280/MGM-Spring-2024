{
  "cells": [
    {
      "cell_type": "markdown",
      "source": [
        "Name: Md Faizal Karim\\\n",
        "Roll No: 2022121004\\\n",
        "MGM-A2\n"
      ],
      "metadata": {
        "id": "B8fN0YGTHjzN"
      }
    },
    {
      "cell_type": "code",
      "source": [
        "import torch\n",
        "import torch.nn as nn"
      ],
      "metadata": {
        "id": "MBX6GGSmY9Y6"
      },
      "execution_count": 2,
      "outputs": []
    },
    {
      "cell_type": "code",
      "source": [
        "mytensor = torch.tensor([\n",
        "    [[1, 2], [3, 4]],\n",
        "    [[5, 6], [2, 8]],\n",
        "    [[9, 0], [5, 2]],\n",
        "    [[1, 7], [2, 11]]\n",
        "], dtype=torch.float32)\n",
        "\n",
        "print(f\"Q1. mytensor: {mytensor}\")\n",
        "print(f\"Q2. Device of the tensor: {mytensor.device}\")\n",
        "print(f\"Q3. Shape: {mytensor.shape}\")\n",
        "print(f\"Q4. Total number of elements:\", mytensor.numel())\n",
        "print(f\"Q5. Third slice:\\n{mytensor[2]}\")\n",
        "print(f\"Q6. Top right elements:\\n{mytensor[0, 1]}\")\n"
      ],
      "metadata": {
        "colab": {
          "base_uri": "https://localhost:8080/"
        },
        "id": "jwGJQFMHZBjk",
        "outputId": "369a8f29-8596-4592-cd84-db55b2498063"
      },
      "execution_count": 4,
      "outputs": [
        {
          "output_type": "stream",
          "name": "stdout",
          "text": [
            "Q1. mytensor: tensor([[[ 1.,  2.],\n",
            "         [ 3.,  4.]],\n",
            "\n",
            "        [[ 5.,  6.],\n",
            "         [ 2.,  8.]],\n",
            "\n",
            "        [[ 9.,  0.],\n",
            "         [ 5.,  2.]],\n",
            "\n",
            "        [[ 1.,  7.],\n",
            "         [ 2., 11.]]])\n",
            "Q2. Device of the tensor: cpu\n",
            "Q3. Shape: torch.Size([4, 2, 2])\n",
            "Q4. Total number of elements: 16\n",
            "Q5. Third slice:\n",
            "tensor([[9., 0.],\n",
            "        [5., 2.]])\n",
            "Q6. Top right elements:\n",
            "tensor([3., 4.])\n"
          ]
        }
      ]
    },
    {
      "cell_type": "code",
      "source": [
        "all_zeros, all_ones = torch.zeros_like(mytensor), torch.ones_like(mytensor)\n",
        "print(f\"Q7. All zeros: {all_zeros}\")\n",
        "print(f\"Q7. All ones: {all_ones}\")"
      ],
      "metadata": {
        "colab": {
          "base_uri": "https://localhost:8080/"
        },
        "id": "P6DjavHqY_i_",
        "outputId": "571fb204-bdab-4806-8a00-4eb5594b8165"
      },
      "execution_count": 7,
      "outputs": [
        {
          "output_type": "stream",
          "name": "stdout",
          "text": [
            "Q7. All zeros: tensor([[[0., 0.],\n",
            "         [0., 0.]],\n",
            "\n",
            "        [[0., 0.],\n",
            "         [0., 0.]],\n",
            "\n",
            "        [[0., 0.],\n",
            "         [0., 0.]],\n",
            "\n",
            "        [[0., 0.],\n",
            "         [0., 0.]]])\n",
            "Q7. All ones: tensor([[[1., 1.],\n",
            "         [1., 1.]],\n",
            "\n",
            "        [[1., 1.],\n",
            "         [1., 1.]],\n",
            "\n",
            "        [[1., 1.],\n",
            "         [1., 1.]],\n",
            "\n",
            "        [[1., 1.],\n",
            "         [1., 1.]]])\n"
          ]
        }
      ]
    },
    {
      "cell_type": "code",
      "source": [
        "z = torch.randn(4).to('cpu')\n",
        "print(f\"Q9. Tensor sampled from standard normal: {z}\")"
      ],
      "metadata": {
        "colab": {
          "base_uri": "https://localhost:8080/"
        },
        "id": "nJZX_gA6aXA9",
        "outputId": "0b09618a-7c5e-4cea-e84c-ec75d8c5bd68"
      },
      "execution_count": 8,
      "outputs": [
        {
          "output_type": "stream",
          "name": "stdout",
          "text": [
            "Q9. Tensor sampled from standard normal: tensor([-0.4540, -0.3399, -0.1962, -1.4608])\n"
          ]
        }
      ]
    },
    {
      "cell_type": "code",
      "source": [
        "print(f\"Q10. {4 * (mytensor - 10)}\")\n"
      ],
      "metadata": {
        "colab": {
          "base_uri": "https://localhost:8080/"
        },
        "id": "JY0FHWDnaeU1",
        "outputId": "3e68b144-7c5c-451a-84e8-7fd1b3d0a53b"
      },
      "execution_count": 11,
      "outputs": [
        {
          "output_type": "stream",
          "name": "stdout",
          "text": [
            "Q10. tensor([[[-36., -32.],\n",
            "         [-28., -24.]],\n",
            "\n",
            "        [[-20., -16.],\n",
            "         [-32.,  -8.]],\n",
            "\n",
            "        [[ -4., -40.],\n",
            "         [-20., -32.]],\n",
            "\n",
            "        [[-36., -12.],\n",
            "         [-32.,   4.]]])\n"
          ]
        }
      ]
    },
    {
      "cell_type": "code",
      "source": [
        "mean, std = torch.mean(mytensor), torch.std(mytensor)\n",
        "print(f\"Q10. Mean: {mean} Std: {std}\")"
      ],
      "metadata": {
        "colab": {
          "base_uri": "https://localhost:8080/"
        },
        "id": "BAcJTRDealpc",
        "outputId": "119aefe7-43d0-4828-e338-43de978abe5d"
      },
      "execution_count": 14,
      "outputs": [
        {
          "output_type": "stream",
          "name": "stdout",
          "text": [
            "Q10. Mean: 4.25 Std: 3.214550256729126\n"
          ]
        }
      ]
    },
    {
      "cell_type": "code",
      "source": [
        "m, n, l = 5, 3, 32\n",
        "A = torch.randn(m, n)\n",
        "b = torch.randn(1, n)\n",
        "x = torch.randn(l, m)\n",
        "\n",
        "y = x @ A + b\n",
        "print(f\"Q11. {y}\")"
      ],
      "metadata": {
        "colab": {
          "base_uri": "https://localhost:8080/"
        },
        "id": "rBAOWBLeavJc",
        "outputId": "70a0dc05-994e-436f-c051-3188e075fd08"
      },
      "execution_count": 15,
      "outputs": [
        {
          "output_type": "stream",
          "name": "stdout",
          "text": [
            "Q11. tensor([[-0.4272, -5.2289,  0.4162],\n",
            "        [-2.0415, -1.7189,  0.0325],\n",
            "        [-1.2200, -7.1562,  0.1103],\n",
            "        [-1.4397, -5.9750,  1.1806],\n",
            "        [-2.9053,  3.4606,  0.1078],\n",
            "        [-2.3490,  3.6273, -0.0518],\n",
            "        [-1.8665, -2.7063,  0.4080],\n",
            "        [-1.7868, -4.0842,  0.5988],\n",
            "        [-1.7433,  3.9018, -0.1183],\n",
            "        [-1.2041, -1.5313, -0.8395],\n",
            "        [-1.1258, -1.5530, -1.1862],\n",
            "        [-2.5582, -1.5685,  0.8792],\n",
            "        [-2.0230, -0.6761, -0.5902],\n",
            "        [-0.1008, -8.7988,  1.4149],\n",
            "        [-2.5691,  1.0243,  0.7375],\n",
            "        [-0.8394, -3.7805,  0.2191],\n",
            "        [-0.3073,  0.2608,  0.9886],\n",
            "        [-0.8309, -7.1353,  0.2608],\n",
            "        [-4.6958,  2.8739,  0.1577],\n",
            "        [ 0.1622, -2.8335,  0.0392],\n",
            "        [-1.7799, -4.1378,  0.9077],\n",
            "        [-3.8235,  2.0221,  0.9685],\n",
            "        [-4.2570, -0.7724,  0.0946],\n",
            "        [-0.9749, -3.0005, -0.8737],\n",
            "        [-1.0420, -4.9767,  0.7677],\n",
            "        [-2.6527, -2.0229, -0.5537],\n",
            "        [-0.7816, -6.7469,  0.8919],\n",
            "        [-2.3339,  1.2513, -0.9647],\n",
            "        [ 0.0897, -2.7901,  1.0463],\n",
            "        [-0.0673, -3.8490,  1.0255],\n",
            "        [ 1.5760, -5.1115,  0.6860],\n",
            "        [-2.1577,  0.1335,  2.0584]])\n"
          ]
        }
      ]
    },
    {
      "cell_type": "code",
      "source": [
        "x = torch.randn(3, 4, 3)\n",
        "x = nn.ReLU()(x)\n",
        "print(f\"Q12. {x}\")"
      ],
      "metadata": {
        "id": "v1UwYRBmbxJq",
        "colab": {
          "base_uri": "https://localhost:8080/"
        },
        "outputId": "9f351c4b-c58b-4749-adad-9aea94a48968"
      },
      "execution_count": 16,
      "outputs": [
        {
          "output_type": "stream",
          "name": "stdout",
          "text": [
            "Q12. tensor([[[1.3341, 0.0000, 1.5256],\n",
            "         [0.0000, 0.0000, 0.0000],\n",
            "         [0.4720, 0.1554, 0.4168],\n",
            "         [1.5280, 0.3868, 0.1527]],\n",
            "\n",
            "        [[0.0347, 0.0000, 1.2585],\n",
            "         [0.9205, 0.0000, 1.8541],\n",
            "         [0.3190, 1.4822, 1.1001],\n",
            "         [1.7272, 1.8781, 0.0000]],\n",
            "\n",
            "        [[0.8309, 0.0000, 0.0000],\n",
            "         [0.0000, 0.0000, 0.1013],\n",
            "         [0.0000, 0.0000, 0.7234],\n",
            "         [0.0000, 0.9588, 0.2634]]])\n"
          ]
        }
      ]
    },
    {
      "cell_type": "code",
      "source": [
        "print(f\"Q13. {nn.BatchNorm1d(4)(x)}\")"
      ],
      "metadata": {
        "colab": {
          "base_uri": "https://localhost:8080/"
        },
        "id": "7ucWn2Z_G30E",
        "outputId": "0530353a-6873-4601-a362-03d1b862e8a7"
      },
      "execution_count": 20,
      "outputs": [
        {
          "output_type": "stream",
          "name": "stdout",
          "text": [
            "Q13. tensor([[[ 1.2299, -0.8728,  1.5317],\n",
            "         [-0.5217, -0.5217, -0.5217],\n",
            "         [-0.0985, -0.7650, -0.2147],\n",
            "         [ 1.0515, -0.5235, -0.8466]],\n",
            "\n",
            "        [[-0.8181, -0.8728,  1.1108],\n",
            "         [ 0.9812, -0.5217,  2.5054],\n",
            "         [-0.4205,  2.0282,  1.2238],\n",
            "         [ 1.3265,  1.5347, -1.0574]],\n",
            "\n",
            "        [[ 0.4369, -0.8728, -0.8728],\n",
            "         [-0.5217, -0.5217, -0.3563],\n",
            "         [-1.0920, -1.0920,  0.4308],\n",
            "         [-1.0574,  0.2659, -0.6938]]], grad_fn=<NativeBatchNormBackward0>)\n"
          ]
        }
      ]
    },
    {
      "cell_type": "code",
      "source": [
        "fc1 = nn.Sequential(\n",
        "    nn.Linear(10, 5),\n",
        "    nn.ReLU(),\n",
        "    nn.Linear(5, 3),\n",
        "    nn.BatchNorm1d(3),\n",
        "    nn.ReLU()\n",
        ")\n",
        "\n",
        "print(f\"Q14. {fc1}\")"
      ],
      "metadata": {
        "colab": {
          "base_uri": "https://localhost:8080/"
        },
        "id": "Z4C6DNmPvtTq",
        "outputId": "9ace12ab-89f6-46d4-c326-64350845d1d9"
      },
      "execution_count": 38,
      "outputs": [
        {
          "output_type": "stream",
          "name": "stdout",
          "text": [
            "Q14. Sequential(\n",
            "  (0): Linear(in_features=10, out_features=5, bias=True)\n",
            "  (1): ReLU()\n",
            "  (2): Linear(in_features=5, out_features=3, bias=True)\n",
            "  (3): BatchNorm1d(3, eps=1e-05, momentum=0.1, affine=True, track_running_stats=True)\n",
            "  (4): ReLU()\n",
            ")\n"
          ]
        }
      ]
    },
    {
      "cell_type": "code",
      "source": [
        "x = torch.randn(100, 10) + 1\n",
        "optimizer = torch.optim.Adam(fc1.parameters(), lr=1e-1)\n",
        "loss_fxn = lambda x: torch.abs(1 - x).mean()\n",
        "\n",
        "def run(x):\n",
        "    x = fc1(x)\n",
        "    loss = loss_fxn(x)\n",
        "    optimizer.zero_grad()\n",
        "    loss.backward()\n",
        "    optimizer.step()\n",
        "    print(loss)\n"
      ],
      "metadata": {
        "id": "-0W7gdOqwEuz"
      },
      "execution_count": 39,
      "outputs": []
    },
    {
      "cell_type": "code",
      "source": [
        "print(\"Q15.\")\n",
        "run(x)\n",
        "run(x)\n",
        "run(x)"
      ],
      "metadata": {
        "colab": {
          "base_uri": "https://localhost:8080/"
        },
        "id": "2afAKNcNyouJ",
        "outputId": "16068d68-c5b6-4578-bbad-b0a4041c3c55"
      },
      "execution_count": 40,
      "outputs": [
        {
          "output_type": "stream",
          "name": "stdout",
          "text": [
            "Q15.\n",
            "tensor(0.7913, grad_fn=<MeanBackward0>)\n",
            "tensor(0.7431, grad_fn=<MeanBackward0>)\n",
            "tensor(0.6693, grad_fn=<MeanBackward0>)\n"
          ]
        }
      ]
    }
  ],
  "metadata": {
    "colab": {
      "provenance": []
    },
    "kernelspec": {
      "display_name": "Python 3",
      "language": "python",
      "name": "python3"
    },
    "language_info": {
      "codemirror_mode": {
        "name": "ipython",
        "version": 3
      },
      "file_extension": ".py",
      "mimetype": "text/x-python",
      "name": "python",
      "nbconvert_exporter": "python",
      "pygments_lexer": "ipython3",
      "version": "3.7.6"
    }
  },
  "nbformat": 4,
  "nbformat_minor": 0
}