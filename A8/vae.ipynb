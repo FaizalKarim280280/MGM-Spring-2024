{
 "cells": [
  {
   "cell_type": "code",
   "execution_count": 1,
   "id": "9faa6f3b-557c-4956-b3ec-ab0b2f675ba5",
   "metadata": {},
   "outputs": [],
   "source": [
    "# This is an assignment on variational autoencoder (VAE). \n",
    "# First import the necessary modules such as torch, numpy, tqdm (for checking progress of loop), and torchvision"
   ]
  },
  {
   "cell_type": "code",
   "execution_count": 2,
   "id": "b6978677-83c7-4fce-8a46-e55624c940c5",
   "metadata": {},
   "outputs": [],
   "source": [
    "import torch\n",
    "import torch.nn as nn\n",
    "\n",
    "import numpy as np\n",
    "\n",
    "from tqdm import tqdm\n",
    "from torchvision.utils import save_image, make_grid\n",
    "import matplotlib.pyplot as plt"
   ]
  },
  {
   "cell_type": "code",
   "execution_count": 3,
   "id": "e1129882-6ea8-4a0e-a8ba-da9e9878fd8b",
   "metadata": {},
   "outputs": [],
   "source": [
    "# Dataset path (default current folder)\n",
    "# Flag for cuda\n",
    "# Device to be used, ude GPU if possible\n",
    "# batch_size (for decent output, and if you have GPU keep it 100)\n",
    "# see below: at 100 epochs you expect loss to be: Average Loss:  97.84691241587542\n",
    "# x_dim is the total dimension of input data. In this case, we use MNIST data. It is of 28 x 28 grey scale image, hence, \n",
    "# after flattening it will be 784\n",
    "# latent dimension (size of z, the encoder output): set it to 200. Play with 100, 50, 10, 300, to see the effect\n",
    "# epochs is the total number of times full training data is passed through enc dec modules of VAE"
   ]
  },
  {
   "cell_type": "code",
   "execution_count": 4,
   "id": "b3a84f45-4054-42f8-b9ca-0cb28970da97",
   "metadata": {},
   "outputs": [],
   "source": [
    "dataset_path = '/scratch/fk/'\n",
    "\n",
    "cuda = True\n",
    "DEVICE = torch.device(\"cuda\" if cuda else \"cpu\")\n",
    "\n",
    "batch_size = 100\n",
    "\n",
    "x_dim  = 784\n",
    "hidden_dim = 400\n",
    "latent_dim = 200\n",
    "\n",
    "lr = 5e-4\n",
    "\n",
    "epochs = 10"
   ]
  },
  {
   "cell_type": "code",
   "execution_count": 5,
   "id": "c9e72b25-04e0-417e-994a-941bf34d9b32",
   "metadata": {},
   "outputs": [],
   "source": [
    "# Now import MNIST dataset from torchvision library.\n",
    "# Also import transforms and dataloader.\n",
    "# Note that unless the MNIST file exists in your folder, train and test datasets need to be downloaded.\n",
    "# After downloading, it needs to be loaded using Dataloader.\n",
    "# Note that shuffling for train data is recomendded (Why?), however, it does not make sense for test data."
   ]
  },
  {
   "cell_type": "code",
   "execution_count": 6,
   "id": "4d8d9479-1b55-457f-b5e6-99d63ce4d0df",
   "metadata": {},
   "outputs": [],
   "source": [
    "from torchvision.datasets import MNIST\n",
    "import torchvision.transforms as transforms\n",
    "from torch.utils.data import DataLoader\n",
    "\n",
    "mnist_transform = transforms.Compose([\n",
    "        transforms.ToTensor(),\n",
    "])\n",
    "\n",
    "kwargs = {'num_workers': 5} \n",
    "\n",
    "train_dataset = MNIST(dataset_path, transform=mnist_transform, train=True, download=True)\n",
    "test_dataset  = MNIST(dataset_path, transform=mnist_transform, train=False, download=True)\n",
    "\n",
    "train_loader = DataLoader(dataset=train_dataset, batch_size=batch_size, shuffle=True, **kwargs)\n",
    "test_loader  = DataLoader(dataset=test_dataset,  batch_size=batch_size, shuffle=False, **kwargs)"
   ]
  },
  {
   "cell_type": "code",
   "execution_count": 7,
   "id": "993e936d-eca3-47c4-a6f6-451c67279e6f",
   "metadata": {},
   "outputs": [],
   "source": [
    "# Now we are all set to define encoder module.\n",
    "# We first define the functions that we may use for encoder module with 4 linear layers and finally leakyRELU.\n",
    "# We also define a forward pass module that defines the encoder."
   ]
  },
  {
   "cell_type": "code",
   "execution_count": 8,
   "id": "7d7613c6-6abf-4abc-a0e5-51669f53de05",
   "metadata": {},
   "outputs": [],
   "source": [
    "# class Encoder(nn.Module):\n",
    "    \n",
    "#     def __init__(self, input_dim, hidden_dim, latent_dim):\n",
    "#         super(Encoder, self).__init__()\n",
    "\n",
    "#         self.FC_input = nn.Linear(input_dim, hidden_dim)\n",
    "#         self.FC_input2 = nn.Linear(hidden_dim, hidden_dim)\n",
    "#         self.FC_mean  = nn.Linear(hidden_dim, latent_dim)\n",
    "#         self.FC_var   = nn.Linear (hidden_dim, latent_dim)\n",
    "        \n",
    "#         self.LeakyReLU = nn.LeakyReLU(0.2)\n",
    "        \n",
    "#         self.training = True\n",
    "        \n",
    "#     def forward(self, x):\n",
    "#         h_       = self.LeakyReLU(self.FC_input(x))\n",
    "#         h_       = self.LeakyReLU(self.FC_input2(h_))\n",
    "#         mean     = self.FC_mean(h_)\n",
    "#         log_var  = self.FC_var(h_)                     # encoder produces mean and log of variance \n",
    "#                                                        #             (i.e., parateters of simple tractable normal distribution \"q\"\n",
    "        \n",
    "#         return mean, log_var"
   ]
  },
  {
   "cell_type": "code",
   "execution_count": 9,
   "id": "52d90081-174a-4860-877c-beb02d403ce8",
   "metadata": {},
   "outputs": [],
   "source": [
    "# In the following, we implement the same encoder module, but using nn.Sequential\n",
    "# Note that nn.Sequential gives one output, but we need two: mean and variance. Hence we use shared modules, then separately \n",
    "# define mean and var. We prefer to work with log of variance and when required we apply exp."
   ]
  },
  {
   "cell_type": "code",
   "execution_count": 10,
   "id": "d86e7f05-7caf-45d6-bcf9-02c30f228d2f",
   "metadata": {},
   "outputs": [],
   "source": [
    "import torch.nn as nn\n",
    "import torch.nn.functional as F\n",
    "\n",
    "class Encoder(nn.Module):\n",
    "    def __init__(self, input_dim, hidden_dim, latent_dim):\n",
    "        super(Encoder, self).__init__()\n",
    "\n",
    "        # Define the sequential part\n",
    "        self.shared_layers = nn.Sequential(\n",
    "            # Write code here\n",
    "            # define linear and leakyRELU layers, which is shared for mean and var\n",
    "            nn.Linear(input_dim, hidden_dim),\n",
    "            nn.LeakyReLU(0.2),\n",
    "            nn.Linear(hidden_dim, hidden_dim),\n",
    "            nn.LeakyReLU(0.2)\n",
    "        )\n",
    "        self.training = True\n",
    "        \n",
    "        # Define the separate heads for mean and log variance\n",
    "        self.FC_mean = nn.Linear(hidden_dim, latent_dim)\n",
    "        self.FC_var = nn.Linear(hidden_dim, latent_dim)\n",
    "\n",
    "    def forward(self, x):\n",
    "        # Apply the shared layers\n",
    "        h_ = self.shared_layers(x)\n",
    "        \n",
    "        # Apply the separate heads\n",
    "        mean = self.FC_mean(h_)\n",
    "        log_var = self.FC_var(h_)\n",
    "        \n",
    "        return mean, log_var"
   ]
  },
  {
   "cell_type": "code",
   "execution_count": 11,
   "id": "a50a5608-6e73-4d1c-8ce1-a2bb6c8fda49",
   "metadata": {},
   "outputs": [],
   "source": [
    "# class Decoder(nn.Module):\n",
    "#     def __init__(self, latent_dim, hidden_dim, output_dim):\n",
    "#         super(Decoder, self).__init__()\n",
    "#         # TODO: Fill the follwing code\n",
    "#         self.FC_hidden = nn.Linear(latent_dim, hidden_dim)      # linear module, input size: latent_dim, output size: hidden_dim\n",
    "#         self.FC_hidden2 = nn.Linear(hidden_dim, hidden_dim)     # linear module, input size: hidden_dim, output size: hidden_dim\n",
    "#         self.FC_output =  nn.Linear(hidden_dim, output_dim)     # linear module, input size: hidden_dim, output size: output_dim\n",
    "        \n",
    "#         self.LeakyReLU = nn.LeakyReLU(0.2)\n",
    "#         self.sigmoid = nn.Sigmoid()\n",
    "        \n",
    "#     def forward(self, x):\n",
    "#         # TODO: first pass x through FC_hidden, then followed by LeakyRELU\n",
    "#         h = self.LeakyReLU(self.FC_hidden(x))\n",
    "#         # TODO: first pass h through FC_hidden2, then followed by LeakyRELU\n",
    "#         h = self.LeakyReLU(self.FC_hidden2(h))\n",
    "#         # TODO: Why did you call LeakyRELU twice, what if it is called only once. Report.\n",
    "#         #?: We call LeakyReLU twice to bring in non-linearity in our network \n",
    "\n",
    "#         # TODO: Finally pass h through FC_output, followed by sigmoid, note that sigmoid is in torch library\n",
    "#         x_hat = self.sigmoid(self.FC_output(h))\n",
    "#         return x_hat\n",
    "        "
   ]
  },
  {
   "cell_type": "code",
   "execution_count": 12,
   "id": "80779f6c-86d4-4f01-98e5-fba7f28c67c5",
   "metadata": {},
   "outputs": [],
   "source": [
    "# TODO: Implement a similar sequential module as done for encoder above for the following decoder. \n",
    "\n",
    "class Decoder(nn.Module):\n",
    "    def __init__(self, latent_dim, hidden_dim, output_dim):\n",
    "        super(Decoder, self).__init__()\n",
    "        # TODO: Fill the follwing code\n",
    "        self.layer = nn.Sequential(\n",
    "            nn.Linear(latent_dim, hidden_dim),\n",
    "            nn.LeakyReLU(0.2),\n",
    "            nn.Linear(hidden_dim, hidden_dim),\n",
    "            nn.LeakyReLU(0.2),\n",
    "            nn.Linear(hidden_dim, output_dim),\n",
    "            nn.Sigmoid()\n",
    "        )\n",
    "        \n",
    "    def forward(self, x):\n",
    "        x_hat = self.layer(x)\n",
    "        return x_hat\n",
    "        "
   ]
  },
  {
   "cell_type": "code",
   "execution_count": 13,
   "id": "e1522e9d-dd90-4209-b5e2-18195d6b863a",
   "metadata": {},
   "outputs": [],
   "source": [
    "# In the following, we implement reparametrization module"
   ]
  },
  {
   "cell_type": "code",
   "execution_count": 14,
   "id": "045ffb55-9a2a-4fe8-a029-edc26f11441d",
   "metadata": {},
   "outputs": [],
   "source": [
    "class Model(nn.Module):\n",
    "    def __init__(self, Encoder, Decoder):\n",
    "        super(Model, self).__init__()\n",
    "        self.Encoder = Encoder\n",
    "        self.Decoder = Decoder\n",
    "        \n",
    "    def reparameterization(self, mean, var):\n",
    "        epsilon = torch.randn_like(var).to(DEVICE)        # sampling epsilon  \n",
    "        # TODO: After sampling epsilon from standard normal, construct z = mean + variance * epsilon\n",
    "        z = mean + epsilon * var                         # reparameterization trick\n",
    "        return z\n",
    "        \n",
    "                \n",
    "    def forward(self, x):\n",
    "        # TODO: pass x through Encoder to get mean and log_var\n",
    "        mean, log_var = self.Encoder(x)\n",
    "        z = self.reparameterization(mean, torch.exp(0.5 * log_var)) # takes exponential function (log var -> var)\n",
    "        # TODO: after sampling z with reparametrization, pass it through decoder\n",
    "        x_hat = self.Decoder(z)\n",
    "        \n",
    "        return x_hat, mean, log_var"
   ]
  },
  {
   "cell_type": "code",
   "execution_count": 15,
   "id": "cb48da3b-630b-4e3c-a0ad-68c71c4499a1",
   "metadata": {},
   "outputs": [],
   "source": [
    "# Initialize encoder and decoders\n",
    "encoder = Encoder(input_dim=x_dim, hidden_dim=hidden_dim, latent_dim=latent_dim)\n",
    "decoder = Decoder(latent_dim=latent_dim, hidden_dim = hidden_dim, output_dim = x_dim)\n",
    "\n",
    "# define the model with encoder and decoder\n",
    "model = Model(Encoder=encoder, Decoder=decoder).to(DEVICE)"
   ]
  },
  {
   "cell_type": "code",
   "execution_count": 16,
   "id": "a8102cd8-df53-426b-9dd6-c8f68a097d99",
   "metadata": {},
   "outputs": [],
   "source": [
    "from torch.optim import Adam\n",
    "\n",
    "# define loss\n",
    "BCE_loss = nn.BCELoss()\n",
    "\n",
    "def loss_function(x, x_hat, mean, log_var):\n",
    "    # TODO: define binary cross entropy loss using nn.functional.binary_cross_entropy between x_hat, x, and reduction='sum'\n",
    "    # See: https://pytorch.org/docs/stable/generated/torch.nn.functional.binary_cross_entropy.html \n",
    "    # Note that since you need to sum, you may use reduction='sum'. You may try 'mean' as well\n",
    "    reconstruction_loss = BCE_loss(x_hat, x)\n",
    "    KL = - 0.5 * torch.sum(1+ log_var - mean.pow(2) - log_var.exp())\n",
    "\n",
    "    return reconstruction_loss + KL\n",
    "\n",
    "\n",
    "optimizer = Adam(model.parameters(), lr=lr)"
   ]
  },
  {
   "cell_type": "code",
   "execution_count": 17,
   "id": "b652efb9-6fbb-4a20-909a-70e1d57266f1",
   "metadata": {},
   "outputs": [
    {
     "name": "stdout",
     "output_type": "stream",
     "text": [
      "Start training VAE...\n",
      "\tEpoch 1 complete! \tAverage Loss:  0.005169565453254719\n",
      "\tEpoch 2 complete! \tAverage Loss:  0.0027333708637345814\n",
      "\tEpoch 3 complete! \tAverage Loss:  0.002694909858186177\n",
      "\tEpoch 4 complete! \tAverage Loss:  0.0026728472820108443\n",
      "\tEpoch 5 complete! \tAverage Loss:  0.002667476111192735\n",
      "\tEpoch 6 complete! \tAverage Loss:  0.00265606456587032\n",
      "\tEpoch 7 complete! \tAverage Loss:  0.002652596911922321\n",
      "\tEpoch 8 complete! \tAverage Loss:  0.0026501973003198787\n",
      "\tEpoch 9 complete! \tAverage Loss:  0.0026488670510222798\n",
      "\tEpoch 10 complete! \tAverage Loss:  0.002645681588498499\n",
      "\tEpoch 11 complete! \tAverage Loss:  0.002644805097719266\n",
      "\tEpoch 12 complete! \tAverage Loss:  0.0026439037533455183\n",
      "\tEpoch 13 complete! \tAverage Loss:  0.00264217468006583\n",
      "\tEpoch 14 complete! \tAverage Loss:  0.0026409972706601297\n",
      "\tEpoch 15 complete! \tAverage Loss:  0.0026407390434873322\n",
      "\tEpoch 16 complete! \tAverage Loss:  0.0026399701152102577\n",
      "\tEpoch 17 complete! \tAverage Loss:  0.0026388506954520296\n",
      "\tEpoch 18 complete! \tAverage Loss:  0.002638502560792264\n",
      "\tEpoch 19 complete! \tAverage Loss:  0.002637988607801858\n",
      "\tEpoch 20 complete! \tAverage Loss:  0.00263755460887003\n",
      "\tEpoch 21 complete! \tAverage Loss:  0.0026368546334152826\n",
      "\tEpoch 22 complete! \tAverage Loss:  0.00263673493529799\n",
      "\tEpoch 23 complete! \tAverage Loss:  0.002636688578755708\n",
      "\tEpoch 24 complete! \tAverage Loss:  0.002636211255257436\n",
      "\tEpoch 25 complete! \tAverage Loss:  0.002636043547787929\n",
      "\tEpoch 26 complete! \tAverage Loss:  0.0026360051338879613\n",
      "\tEpoch 27 complete! \tAverage Loss:  0.0026358260438219335\n",
      "\tEpoch 28 complete! \tAverage Loss:  0.002635849875977919\n",
      "\tEpoch 29 complete! \tAverage Loss:  0.0031240827208369325\n",
      "\tEpoch 30 complete! \tAverage Loss:  0.002640182562234605\n",
      "\tEpoch 31 complete! \tAverage Loss:  0.0026376035157746583\n",
      "\tEpoch 32 complete! \tAverage Loss:  0.002646632339301611\n",
      "\tEpoch 33 complete! \tAverage Loss:  0.0026375751796867295\n",
      "\tEpoch 34 complete! \tAverage Loss:  0.002636970135823315\n",
      "\tEpoch 35 complete! \tAverage Loss:  0.0026383704924722745\n",
      "\tEpoch 36 complete! \tAverage Loss:  0.0026395571866198652\n",
      "\tEpoch 37 complete! \tAverage Loss:  0.0026366305338818958\n",
      "\tEpoch 38 complete! \tAverage Loss:  0.002636130652911277\n",
      "\tEpoch 39 complete! \tAverage Loss:  0.002636080986520086\n",
      "\tEpoch 40 complete! \tAverage Loss:  0.0026361109179527014\n",
      "\tEpoch 41 complete! \tAverage Loss:  0.0026352764076501977\n",
      "\tEpoch 42 complete! \tAverage Loss:  0.0026351927071561003\n",
      "\tEpoch 43 complete! \tAverage Loss:  0.0026350119739820643\n",
      "\tEpoch 44 complete! \tAverage Loss:  0.0026350163784070882\n",
      "\tEpoch 45 complete! \tAverage Loss:  0.0031582493587507428\n",
      "\tEpoch 46 complete! \tAverage Loss:  0.0026406647670448127\n",
      "\tEpoch 47 complete! \tAverage Loss:  0.0026364429499052206\n",
      "\tEpoch 48 complete! \tAverage Loss:  0.0026355209521240304\n",
      "\tEpoch 49 complete! \tAverage Loss:  0.002636833971300985\n",
      "\tEpoch 50 complete! \tAverage Loss:  0.002638724153995116\n",
      "Finish!!\n"
     ]
    }
   ],
   "source": [
    "print(\"Start training VAE...\")\n",
    "model.train()\n",
    "\n",
    "for epoch in range(50):\n",
    "    overall_loss = 0\n",
    "    for batch_idx, (x, _) in enumerate(train_loader):\n",
    "        x = x.view(batch_size, x_dim)\n",
    "        x = x.to(DEVICE)\n",
    "\n",
    "        optimizer.zero_grad()\n",
    "\n",
    "        x_hat, mean, log_var = model(x)\n",
    "        loss = loss_function(x, x_hat, mean, log_var)\n",
    "        \n",
    "        overall_loss += loss.item()\n",
    "        \n",
    "        loss.backward()\n",
    "        optimizer.step()\n",
    "        \n",
    "    print(\"\\tEpoch\", epoch + 1, \"complete!\", \"\\tAverage Loss: \", overall_loss / (batch_idx*batch_size))\n",
    "    \n",
    "print(\"Finish!!\")"
   ]
  },
  {
   "cell_type": "code",
   "execution_count": 18,
   "id": "6af11bd3-85d4-46b1-8024-5b528303d54f",
   "metadata": {},
   "outputs": [
    {
     "name": "stderr",
     "output_type": "stream",
     "text": [
      "  0%|          | 0/100 [00:00<?, ?it/s]\n"
     ]
    }
   ],
   "source": [
    "model.eval()\n",
    "\n",
    "with torch.no_grad():\n",
    "    for batch_idx, (x, _) in enumerate(tqdm(test_loader)):\n",
    "        x = x.view(batch_size, x_dim)\n",
    "        x = x.to(DEVICE)\n",
    "        \n",
    "        x_hat, _, _ = model(x)\n",
    "        break"
   ]
  },
  {
   "cell_type": "code",
   "execution_count": 19,
   "id": "59267f48-40e4-43f1-b3c6-f7b62053ac97",
   "metadata": {},
   "outputs": [],
   "source": [
    "def show_image(x, idx):\n",
    "    x = x.view(batch_size, 28, 28)\n",
    "\n",
    "    fig = plt.figure()\n",
    "    plt.imshow(x[idx].cpu().numpy())"
   ]
  },
  {
   "cell_type": "code",
   "execution_count": 20,
   "id": "c0f3f56a-f882-4a86-8853-d05d5583e4d4",
   "metadata": {},
   "outputs": [
    {
     "data": {
      "image/png": "[encoded data removed]",
      "text/plain": [
       "<Figure size 640x480 with 1 Axes>"
      ]
     },
     "metadata": {},
     "output_type": "display_data"
    }
   ],
   "source": [
    "show_image(x, idx=0)"
   ]
  },
  {
   "cell_type": "code",
   "execution_count": 21,
   "id": "9c99835d-384b-4b08-845a-4a24f21aeea5",
   "metadata": {},
   "outputs": [
    {
     "data": {
      "image/png": "[encoded data removed]",
      "text/plain": [
       "<Figure size 640x480 with 1 Axes>"
      ]
     },
     "metadata": {},
     "output_type": "display_data"
    }
   ],
   "source": [
    "show_image(x_hat, idx=0)"
   ]
  },
  {
   "cell_type": "code",
   "execution_count": 22,
   "id": "7ce14d88-9e7d-4405-a670-57780bd7eb0c",
   "metadata": {},
   "outputs": [],
   "source": [
    "with torch.no_grad():\n",
    "    noise = torch.randn(batch_size, latent_dim).to(DEVICE)\n",
    "    generated_images = decoder(noise)"
   ]
  },
  {
   "cell_type": "code",
   "execution_count": 23,
   "id": "3b2f6218-9c3d-40ef-932c-9d2aed1ba058",
   "metadata": {},
   "outputs": [],
   "source": [
    "save_image(generated_images.view(batch_size, 1, 28, 28), 'generated_sample.png')"
   ]
  },
  {
   "cell_type": "code",
   "execution_count": 24,
   "id": "553c389f-03fd-4020-b885-4a1714e7721e",
   "metadata": {},
   "outputs": [
    {
     "data": {
      "image/png": "[encoded data removed]",
      "text/plain": [
       "<Figure size 640x480 with 1 Axes>"
      ]
     },
     "metadata": {},
     "output_type": "display_data"
    }
   ],
   "source": [
    "show_image(generated_images, idx=12)"
   ]
  },
  {
   "cell_type": "code",
   "execution_count": 25,
   "id": "df70b709-3f31-4bd2-83d5-16fe13b13296",
   "metadata": {},
   "outputs": [
    {
     "data": {
      "image/png": "[encoded data removed]",
      "text/plain": [
       "<Figure size 640x480 with 1 Axes>"
      ]
     },
     "metadata": {},
     "output_type": "display_data"
    }
   ],
   "source": [
    "show_image(generated_images, idx=0)"
   ]
  },
  {
   "cell_type": "code",
   "execution_count": 26,
   "id": "773d0251-4cae-47b3-8a0a-2fa6dc894161",
   "metadata": {},
   "outputs": [
    {
     "data": {
      "image/png": "[encoded data removed]",
      "text/plain": [
       "<Figure size 640x480 with 1 Axes>"
      ]
     },
     "metadata": {},
     "output_type": "display_data"
    }
   ],
   "source": [
    "show_image(generated_images, idx=1)"
   ]
  },
  {
   "cell_type": "code",
   "execution_count": null,
   "id": "f9760fef",
   "metadata": {},
   "outputs": [],
   "source": []
  }
 ],
 "metadata": {
  "kernelspec": {
   "display_name": "Python 3 (ipykernel)",
   "language": "python",
   "name": "python3"
  },
  "language_info": {
   "codemirror_mode": {
    "name": "ipython",
    "version": 3
   },
   "file_extension": ".py",
   "mimetype": "text/x-python",
   "name": "python",
   "nbconvert_exporter": "python",
   "pygments_lexer": "ipython3",
   "version": "3.9.16"
  }
 },
 "nbformat": 4,
 "nbformat_minor": 5
}
