{
 "cells": [
  {
   "cell_type": "markdown",
   "metadata": {},
   "source": [
    "This notebook explains how to run diffusion inference code. The training code will also be provided but training in colab will not be possible since it will be difficult to share the dataset. The dataset is about 7 GBs and I am looking for some online storage to storing and sharing it. \n",
    "\n",
    "Here, we first generate the parameters by running the `diffusion_inference.py`. We then load the weights in our CNN model. However, we don't generate the fc parameters in this project, only the Conv2D parameters. Hence, we fine tune the cnn model for 5 epochs by freezing the conv layers and only training the fc layer. Finally, we take its predictions on small subset of the MNIST validation data and compute metrics."
   ]
  },
  {
   "cell_type": "code",
   "execution_count": 2,
   "metadata": {},
   "outputs": [
    {
     "data": {
      "text/plain": [
       "'cuda'"
      ]
     },
     "execution_count": 2,
     "metadata": {},
     "output_type": "execute_result"
    }
   ],
   "source": [
    "import torch\n",
    "import torch.nn as nn\n",
    "from models.base_cnn import CnnBaseModel\n",
    "from trainers.trainer_base_cnn import TrainerBaseCNN\n",
    "\n",
    "device = 'cuda' if torch.cuda.is_available() else 'cpu'\n",
    "device "
   ]
  },
  {
   "cell_type": "markdown",
   "metadata": {},
   "source": [
    "### Run the diffusion inference code. \n",
    "It might require some time based on compute power."
   ]
  },
  {
   "cell_type": "code",
   "execution_count": 3,
   "metadata": {},
   "outputs": [
    {
     "name": "stdout",
     "output_type": "stream",
     "text": [
      "Starting reverse diffusion\n",
      "99it [00:00, 173.95it/s]\n",
      "Layer:1 done.\n",
      "99it [00:00, 322.35it/s]\n",
      "Layer:2 done.\n",
      "99it [00:00, 330.77it/s]\n",
      "Layer:3 done.\n",
      "99it [00:00, 330.62it/s]\n",
      "Layer:4 done.\n",
      "Latent codes generated for all the layers. Now passing it to the decoder.\n",
      "layer: 1: torch.Size([32, 32, 1, 3, 3])\n",
      "layer: 2: torch.Size([32, 32, 32, 3, 3])\n",
      "layer: 3: torch.Size([32, 64, 32, 3, 3])\n",
      "layer: 4: torch.Size([32, 64, 64, 3, 3])\n",
      "Weights saved in ./generated_weights\n"
     ]
    }
   ],
   "source": [
    "!python3 diffusion_inference.py "
   ]
  },
  {
   "cell_type": "markdown",
   "metadata": {},
   "source": [
    "### Load the CNN Model\n",
    "\n",
    "We load the cnn model using `CnnBaseModel`. "
   ]
  },
  {
   "cell_type": "code",
   "execution_count": 4,
   "metadata": {},
   "outputs": [
    {
     "name": "stdout",
     "output_type": "stream",
     "text": [
      "CnnBaseModel created\n",
      "conv1.0.weight torch.Size([32, 1, 3, 3])\n",
      "conv2.0.weight torch.Size([32, 32, 3, 3])\n",
      "conv3.0.weight torch.Size([64, 32, 3, 3])\n",
      "conv4.0.weight torch.Size([64, 64, 3, 3])\n",
      "fc.weight torch.Size([10, 64])\n",
      "fc.bias torch.Size([10])\n"
     ]
    }
   ],
   "source": [
    "cnn_model = CnnBaseModel()\n",
    "for name, param in cnn_model.named_parameters():\n",
    "    print(name, param.shape)\n",
    "\n",
    "# load the conv2d weights. Note that the fc weigths are still random and need to be finetuned.    \n",
    "weights = torch.load('./generated_weights/gen_weights_280.pth')\n",
    "cnn_model.conv1[0].weight.data = weights[0].detach().clone()\n",
    "cnn_model.conv2[0].weight.data = weights[1].detach().clone()\n",
    "cnn_model.conv3[0].weight.data = weights[2].detach().clone()\n",
    "cnn_model.conv4[0].weight.data = weights[3].detach().clone()\n",
    "\n",
    "# put the model in eval mode\n",
    "cnn_model.eval()\n",
    "cnn_model = cnn_model.to(device)\n",
    "# weights.keys()"
   ]
  },
  {
   "cell_type": "code",
   "execution_count": 5,
   "metadata": {},
   "outputs": [
    {
     "name": "stdout",
     "output_type": "stream",
     "text": [
      "conv1.0.weight torch.Size([32, 1, 3, 3])\n",
      "conv2.0.weight torch.Size([32, 32, 3, 3])\n",
      "conv3.0.weight torch.Size([64, 32, 3, 3])\n",
      "conv4.0.weight torch.Size([64, 64, 3, 3])\n",
      "fc.weight torch.Size([10, 64])\n",
      "fc.bias torch.Size([10])\n"
     ]
    }
   ],
   "source": [
    "# print the layers\n",
    "for name, param in cnn_model.named_parameters():\n",
    "    print(name, param.shape)"
   ]
  },
  {
   "cell_type": "markdown",
   "metadata": {},
   "source": [
    "### Finetune few epochs to train the final fc layer\n",
    "\n",
    "For finetuning, we use he `TrainerBaseCNN` class. "
   ]
  },
  {
   "cell_type": "code",
   "execution_count": 8,
   "metadata": {},
   "outputs": [
    {
     "name": "stderr",
     "output_type": "stream",
     "text": [
      "100%|██████████| 469/469 [00:03<00:00, 132.58it/s]\n",
      "100%|██████████| 79/79 [00:00<00:00, 86.78it/s] \n"
     ]
    },
    {
     "name": "stdout",
     "output_type": "stream",
     "text": [
      "[Epoch:0] [Train:{'loss': 2.3662, 'metrics': {'acc': 0.2627}}] [Val:{'loss': 1.8489, 'metrics': {'acc': 0.425}}]\n"
     ]
    },
    {
     "name": "stderr",
     "output_type": "stream",
     "text": [
      "100%|██████████| 469/469 [00:02<00:00, 159.15it/s]\n",
      "100%|██████████| 79/79 [00:00<00:00, 93.38it/s] \n"
     ]
    },
    {
     "name": "stdout",
     "output_type": "stream",
     "text": [
      "[Epoch:1] [Train:{'loss': 1.7298, 'metrics': {'acc': 0.4698}}] [Val:{'loss': 1.6091, 'metrics': {'acc': 0.5257}}]\n"
     ]
    },
    {
     "name": "stderr",
     "output_type": "stream",
     "text": [
      "100%|██████████| 469/469 [00:02<00:00, 157.27it/s]\n",
      "100%|██████████| 79/79 [00:00<00:00, 88.17it/s] \n"
     ]
    },
    {
     "name": "stdout",
     "output_type": "stream",
     "text": [
      "[Epoch:2] [Train:{'loss': 1.5464, 'metrics': {'acc': 0.5575}}] [Val:{'loss': 1.462, 'metrics': {'acc': 0.5971}}]\n"
     ]
    },
    {
     "name": "stderr",
     "output_type": "stream",
     "text": [
      "100%|██████████| 469/469 [00:02<00:00, 158.74it/s]\n",
      "100%|██████████| 79/79 [00:00<00:00, 90.61it/s] \n"
     ]
    },
    {
     "name": "stdout",
     "output_type": "stream",
     "text": [
      "[Epoch:3] [Train:{'loss': 1.4234, 'metrics': {'acc': 0.6088}}] [Val:{'loss': 1.3549, 'metrics': {'acc': 0.6321}}]\n"
     ]
    },
    {
     "name": "stderr",
     "output_type": "stream",
     "text": [
      "100%|██████████| 469/469 [00:02<00:00, 160.18it/s]\n",
      "100%|██████████| 79/79 [00:00<00:00, 86.46it/s] "
     ]
    },
    {
     "name": "stdout",
     "output_type": "stream",
     "text": [
      "[Epoch:4] [Train:{'loss': 1.3309, 'metrics': {'acc': 0.639}}] [Val:{'loss': 1.2718, 'metrics': {'acc': 0.6591}}]\n"
     ]
    },
    {
     "name": "stderr",
     "output_type": "stream",
     "text": [
      "\n"
     ]
    }
   ],
   "source": [
    "def finetune_cnn(cnn_model):\n",
    "    from torch.utils.data import DataLoader\n",
    "    from dataloaders.mnist import train_dataset, val_dataset\n",
    "    \n",
    "    train_loader = DataLoader(train_dataset, batch_size=128, shuffle=False, num_workers=7)\n",
    "    val_loader = DataLoader(val_dataset, batch_size=128, shuffle=False, num_workers=7)\n",
    "    \n",
    "    trainer_base_cnn = TrainerBaseCNN(\n",
    "        model=cnn_model,\n",
    "        train_loader = train_loader,\n",
    "        val_loader = val_loader,\n",
    "        device = device,\n",
    "        lr=1e-6,\n",
    "        save_checkpoints=False,        \n",
    "        epochs=5\n",
    "    )\n",
    "    \n",
    "    trainer_base_cnn.train()\n",
    "    \n",
    "finetune_cnn(cnn_model)"
   ]
  },
  {
   "cell_type": "markdown",
   "metadata": {},
   "source": [
    "### Load val data for MNIST\n",
    "\n",
    "This is a small set of the validation data of MNIST. It is a batch of 128 images. "
   ]
  },
  {
   "cell_type": "code",
   "execution_count": 9,
   "metadata": {},
   "outputs": [
    {
     "data": {
      "text/plain": [
       "(torch.Size([128, 1, 28, 28]), torch.Size([128]))"
      ]
     },
     "execution_count": 9,
     "metadata": {},
     "output_type": "execute_result"
    }
   ],
   "source": [
    "val_data = torch.load('./mnist-val.pth')\n",
    "X, y = val_data.values()\n",
    "X = X.to(device)\n",
    "y = y.to(device)\n",
    "\n",
    "X.shape, y.shape"
   ]
  },
  {
   "cell_type": "code",
   "execution_count": 11,
   "metadata": {},
   "outputs": [
    {
     "name": "stdout",
     "output_type": "stream",
     "text": [
      "              precision    recall  f1-score   support\n",
      "\n",
      "           0       0.86      0.80      0.83        15\n",
      "           1       0.82      0.90      0.86        10\n",
      "           2       0.62      0.47      0.53        17\n",
      "           3       0.58      0.79      0.67        14\n",
      "           4       0.50      0.67      0.57         9\n",
      "           5       0.67      0.29      0.40         7\n",
      "           6       0.73      0.67      0.70        12\n",
      "           7       0.68      0.81      0.74        16\n",
      "           8       0.57      0.53      0.55        15\n",
      "           9       0.58      0.54      0.56        13\n",
      "\n",
      "    accuracy                           0.66       128\n",
      "   macro avg       0.66      0.65      0.64       128\n",
      "weighted avg       0.66      0.66      0.65       128\n",
      "\n"
     ]
    }
   ],
   "source": [
    "from sklearn.metrics import classification_report, confusion_matrix\n",
    "\n",
    "with torch.no_grad():\n",
    "    y_pred = torch.argmax(cnn_model(X.to(device)), dim=-1)\n",
    "\n",
    "\n",
    "print(classification_report(y.cpu().numpy(), y_pred.cpu().numpy()))\n"
   ]
  },
  {
   "cell_type": "code",
   "execution_count": 15,
   "metadata": {},
   "outputs": [
    {
     "data": {
      "image/png": "[encoded data removed]",
      "text/plain": [
       "<Figure size 640x480 with 2 Axes>"
      ]
     },
     "metadata": {},
     "output_type": "display_data"
    }
   ],
   "source": [
    "import seaborn as sea\n",
    "import matplotlib.pyplot as plt\n",
    "cm = confusion_matrix(y.cpu().numpy(), y_pred.cpu().numpy())\n",
    "\n",
    "sea.heatmap(cm, annot=True, fmt='d', cmap='Blues')\n",
    "plt.title('Confusion Matrix')\n",
    "plt.show()"
   ]
  },
  {
   "cell_type": "code",
   "execution_count": null,
   "metadata": {},
   "outputs": [],
   "source": []
  }
 ],
 "metadata": {
  "kernelspec": {
   "display_name": "cong",
   "language": "python",
   "name": "python3"
  },
  "language_info": {
   "codemirror_mode": {
    "name": "ipython",
    "version": 3
   },
   "file_extension": ".py",
   "mimetype": "text/x-python",
   "name": "python",
   "nbconvert_exporter": "python",
   "pygments_lexer": "ipython3",
   "version": "3.9.16"
  },
  "orig_nbformat": 4
 },
 "nbformat": 4,
 "nbformat_minor": 2
}
