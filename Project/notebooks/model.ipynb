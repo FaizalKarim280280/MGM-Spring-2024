{
 "cells": [
  {
   "cell_type": "code",
   "execution_count": 1,
   "metadata": {},
   "outputs": [],
   "source": [
    "import torch\n",
    "import torch.nn as nn\n",
    "import sys\n",
    "sys.path.append('../utils')\n",
    "from utils import get_num_model_params\n",
    "import matplotlib.pyplot as plt"
   ]
  },
  {
   "cell_type": "code",
   "execution_count": 2,
   "metadata": {},
   "outputs": [],
   "source": [
    "\n",
    "class CnnBaseModel(nn.Module):\n",
    "    def __init__(self):\n",
    "        super().__init__()\n",
    "        self.conv1 = self.create_conv_blocks(1, 32)\n",
    "        self.conv2 = self.create_conv_blocks(32, 32)\n",
    "        self.conv3 = self.create_conv_blocks(32, 64, stride=1)\n",
    "        self.conv4 = self.create_conv_blocks(64, 64)\n",
    "        \n",
    "        self.avg_pool = nn.AvgPool2d(3)\n",
    "        self.fc = nn.Linear(64, 10)\n",
    "        print(\"CnnBaseModel created\")\n",
    "        \n",
    "    def create_conv_blocks(self, in_c, out_c, stride=2):\n",
    "        return nn.Sequential(\n",
    "            nn.Conv2d(in_c, out_c, kernel_size=3, padding=1, stride=stride, bias=False),\n",
    "            nn.ReLU(),\n",
    "            nn.Dropout(0.1),\n",
    "            # nn.Conv2d(out_c, out_c, kernel_size=3, padding=1, stride=2, bias=False),\n",
    "            # nn.ReLU()\n",
    "        )\n",
    "        \n",
    "    def forward(self, x):\n",
    "        # x: bs, 1, 28, 28\n",
    "        x = self.conv1(x) # bs, 16, 14, 14\n",
    "        x = self.conv2(x) # bs, 32, 7, 7\n",
    "        x = self.conv3(x) # bs, 64, 7, 7\n",
    "        x = self.conv4(x) # bs, 64, 3, 3\n",
    "        x = self.avg_pool(x) # bs, 64, 1, 1\n",
    "        x = x.view(-1, x.size(1)) # bs, 64\n",
    "        x = self.fc(x)\n",
    "        return x\n",
    "    "
   ]
  },
  {
   "cell_type": "code",
   "execution_count": 3,
   "metadata": {},
   "outputs": [
    {
     "name": "stdout",
     "output_type": "stream",
     "text": [
      "CnnBaseModel created\n"
     ]
    },
    {
     "data": {
      "text/plain": [
       "CnnBaseModel(\n",
       "  (conv1): Sequential(\n",
       "    (0): Conv2d(1, 32, kernel_size=(3, 3), stride=(2, 2), padding=(1, 1), bias=False)\n",
       "    (1): ReLU()\n",
       "    (2): Dropout(p=0.1, inplace=False)\n",
       "  )\n",
       "  (conv2): Sequential(\n",
       "    (0): Conv2d(32, 32, kernel_size=(3, 3), stride=(2, 2), padding=(1, 1), bias=False)\n",
       "    (1): ReLU()\n",
       "    (2): Dropout(p=0.1, inplace=False)\n",
       "  )\n",
       "  (conv3): Sequential(\n",
       "    (0): Conv2d(32, 64, kernel_size=(3, 3), stride=(1, 1), padding=(1, 1), bias=False)\n",
       "    (1): ReLU()\n",
       "    (2): Dropout(p=0.1, inplace=False)\n",
       "  )\n",
       "  (conv4): Sequential(\n",
       "    (0): Conv2d(64, 64, kernel_size=(3, 3), stride=(2, 2), padding=(1, 1), bias=False)\n",
       "    (1): ReLU()\n",
       "    (2): Dropout(p=0.1, inplace=False)\n",
       "  )\n",
       "  (avg_pool): AvgPool2d(kernel_size=3, stride=3, padding=0)\n",
       "  (fc): Linear(in_features=64, out_features=10, bias=True)\n",
       ")"
      ]
     },
     "execution_count": 3,
     "metadata": {},
     "output_type": "execute_result"
    }
   ],
   "source": [
    "model = CnnBaseModel()\n",
    "# model.fc = nn.Identity()\n",
    "model"
   ]
  },
  {
   "cell_type": "code",
   "execution_count": 6,
   "metadata": {},
   "outputs": [
    {
     "data": {
      "text/plain": [
       "'64,800'"
      ]
     },
     "execution_count": 6,
     "metadata": {},
     "output_type": "execute_result"
    }
   ],
   "source": [
    "get_num_model_params(model)"
   ]
  },
  {
   "cell_type": "code",
   "execution_count": 20,
   "metadata": {},
   "outputs": [],
   "source": [
    "model.conv1[0].weight.data = torch.zeros(32, 1, 3, 3)"
   ]
  },
  {
   "cell_type": "code",
   "execution_count": 6,
   "metadata": {},
   "outputs": [
    {
     "name": "stdout",
     "output_type": "stream",
     "text": [
      "conv1.0.weight torch.Size([32, 1, 3, 3]) torch.Size([32, 3, 3])\n",
      "conv2.0.weight torch.Size([32, 32, 3, 3]) torch.Size([1024, 3, 3])\n",
      "conv3.0.weight torch.Size([64, 32, 3, 3]) torch.Size([2048, 3, 3])\n",
      "conv4.0.weight torch.Size([64, 64, 3, 3]) torch.Size([4096, 3, 3])\n"
     ]
    }
   ],
   "source": [
    "for name, param in model.named_parameters():\n",
    "    param = torch.rand_like(param)\n",
    "    print(name, param.shape, param.view(-1, 3, 3).shape)"
   ]
  },
  {
   "cell_type": "code",
   "execution_count": 28,
   "metadata": {},
   "outputs": [
    {
     "data": {
      "text/plain": [
       "(torch.Size([64, 32, 3, 3]), torch.Size([32, 16, 3, 3]))"
      ]
     },
     "execution_count": 28,
     "metadata": {},
     "output_type": "execute_result"
    }
   ],
   "source": [
    "parameters = list(model.parameters())\n",
    "a = parameters[-1]\n",
    "b = parameters[-2]\n",
    "\n",
    "a.shape, b.shape"
   ]
  },
  {
   "cell_type": "code",
   "execution_count": 29,
   "metadata": {},
   "outputs": [
    {
     "data": {
      "text/plain": [
       "odict_keys(['conv1.0.weight', 'conv2.0.weight', 'conv3.0.weight'])"
      ]
     },
     "execution_count": 29,
     "metadata": {},
     "output_type": "execute_result"
    }
   ],
   "source": [
    "model.state_dict().keys()"
   ]
  },
  {
   "cell_type": "code",
   "execution_count": 30,
   "metadata": {},
   "outputs": [
    {
     "name": "stdout",
     "output_type": "stream",
     "text": [
      "conv1.0.weight 144\n",
      "conv2.0.weight 4608\n",
      "conv3.0.weight 18432\n"
     ]
    }
   ],
   "source": [
    "for key, value in model.state_dict().items():\n",
    "    print(key, value.numel())"
   ]
  },
  {
   "cell_type": "code",
   "execution_count": 34,
   "metadata": {},
   "outputs": [
    {
     "data": {
      "text/plain": [
       "(<matplotlib.image.AxesImage at 0x7f8361caa820>, tensor(4))"
      ]
     },
     "execution_count": 34,
     "metadata": {},
     "output_type": "execute_result"
    },
    {
     "data": {
      "image/png": "[encoded data removed]",
      "text/plain": [
       "<Figure size 640x480 with 1 Axes>"
      ]
     },
     "metadata": {},
     "output_type": "display_data"
    }
   ],
   "source": [
    "mnist_val = torch.load('../mnist-val.pth')\n",
    "plt.imshow(mnist_val['X'][30].numpy()[0]), mnist_val['y'][30]\n"
   ]
  },
  {
   "cell_type": "code",
   "execution_count": 156,
   "metadata": {},
   "outputs": [
    {
     "data": {
      "text/plain": [
       "odict_keys(['conv1.0.weight', 'conv2.0.weight', 'conv3.0.weight', 'conv4.0.weight', 'fc.weight', 'fc.bias'])"
      ]
     },
     "execution_count": 156,
     "metadata": {},
     "output_type": "execute_result"
    }
   ],
   "source": [
    "# weights = torch.load('/scratch/fk/R1/D2_100_9.pt')\n",
    "weights = torch.load('/scratch/fk/R2/D3_1_4.pt')\n",
    "\n",
    "weights.keys()"
   ]
  },
  {
   "cell_type": "code",
   "execution_count": 157,
   "metadata": {},
   "outputs": [
    {
     "name": "stdout",
     "output_type": "stream",
     "text": [
      "CnnBaseModel created\n"
     ]
    }
   ],
   "source": [
    "model = CnnBaseModel()"
   ]
  },
  {
   "cell_type": "code",
   "execution_count": 161,
   "metadata": {},
   "outputs": [
    {
     "data": {
      "text/plain": [
       "CnnBaseModel(\n",
       "  (conv1): Sequential(\n",
       "    (0): Conv2d(1, 32, kernel_size=(3, 3), stride=(2, 2), padding=(1, 1), bias=False)\n",
       "    (1): ReLU()\n",
       "    (2): Dropout(p=0.1, inplace=False)\n",
       "  )\n",
       "  (conv2): Sequential(\n",
       "    (0): Conv2d(32, 32, kernel_size=(3, 3), stride=(2, 2), padding=(1, 1), bias=False)\n",
       "    (1): ReLU()\n",
       "    (2): Dropout(p=0.1, inplace=False)\n",
       "  )\n",
       "  (conv3): Sequential(\n",
       "    (0): Conv2d(32, 64, kernel_size=(3, 3), stride=(1, 1), padding=(1, 1), bias=False)\n",
       "    (1): ReLU()\n",
       "    (2): Dropout(p=0.1, inplace=False)\n",
       "  )\n",
       "  (conv4): Sequential(\n",
       "    (0): Conv2d(64, 64, kernel_size=(3, 3), stride=(2, 2), padding=(1, 1), bias=False)\n",
       "    (1): ReLU()\n",
       "    (2): Dropout(p=0.1, inplace=False)\n",
       "  )\n",
       "  (avg_pool): AvgPool2d(kernel_size=3, stride=3, padding=0)\n",
       "  (fc): Linear(in_features=64, out_features=10, bias=True)\n",
       ")"
      ]
     },
     "execution_count": 161,
     "metadata": {},
     "output_type": "execute_result"
    }
   ],
   "source": [
    "model.load_state_dict(weights)\n",
    "# model.fc.weight.data = torch.load('../fc-weight.pth')\n",
    "# model.fc.bias.data = torch.load('../fc-bias.pth')\n",
    "\n",
    "model"
   ]
  },
  {
   "cell_type": "code",
   "execution_count": 162,
   "metadata": {},
   "outputs": [],
   "source": [
    "model = model.to('cuda')"
   ]
  },
  {
   "cell_type": "code",
   "execution_count": 163,
   "metadata": {},
   "outputs": [
    {
     "data": {
      "text/plain": [
       "tensor(0.9688)"
      ]
     },
     "execution_count": 163,
     "metadata": {},
     "output_type": "execute_result"
    }
   ],
   "source": [
    "data = torch.load('../mnist-val.pth')\n",
    "model.eval()\n",
    "with torch.no_grad():\n",
    "    y_pred = model(data['X'].to('cuda')).detach()\n",
    "    y_pred = torch.argmax(y_pred, dim=-1).cpu()\n",
    "    acc = (y_pred == data['y']).sum()/len(data['y'])\n",
    "    \n",
    "acc"
   ]
  },
  {
   "cell_type": "code",
   "execution_count": 41,
   "metadata": {},
   "outputs": [],
   "source": [
    "torch.save(weights['fc.weight'], './fc-weight.pth')\n",
    "torch.save(weights['fc.bias'], './fc-bias.pth')\n"
   ]
  },
  {
   "cell_type": "code",
   "execution_count": 48,
   "metadata": {},
   "outputs": [],
   "source": [
    "model.fc.weight.data = weights['fc.weight']"
   ]
  },
  {
   "cell_type": "code",
   "execution_count": 55,
   "metadata": {},
   "outputs": [
    {
     "data": {
      "text/plain": [
       "torch.Size([10, 64])"
      ]
     },
     "execution_count": 55,
     "metadata": {},
     "output_type": "execute_result"
    }
   ],
   "source": [
    "torch.load('../fc-weight.pth').shape"
   ]
  },
  {
   "cell_type": "code",
   "execution_count": 52,
   "metadata": {},
   "outputs": [
    {
     "data": {
      "text/plain": [
       "tensor([[ 4.8063e-02,  8.0907e-02,  1.1169e-01,  4.2856e-02, -1.6558e-01,\n",
       "         -2.3325e-01,  1.2141e-01,  1.2295e-01, -9.1080e-02,  8.9980e-02,\n",
       "          1.1595e-01,  9.2666e-02,  2.6229e-03,  1.4123e-02, -2.3828e-01,\n",
       "          3.7252e-02, -1.0350e-02, -1.6447e-01, -7.8896e-02, -1.5520e-01,\n",
       "         -3.9611e-02, -4.6294e-02,  1.3030e-01, -6.3744e-02, -1.0005e-02,\n",
       "          1.4493e-02, -4.4470e-02, -1.0138e-01, -3.2088e-02, -3.4837e-02,\n",
       "         -9.3678e-02, -7.8502e-02, -4.2883e-02,  7.3436e-02,  5.6863e-02,\n",
       "         -1.1167e-01,  9.1519e-02,  8.8346e-02, -2.3059e-02, -9.2127e-02,\n",
       "         -1.5051e-01,  2.9627e-02,  1.2830e-02, -4.7102e-02,  1.3332e-01,\n",
       "         -2.9650e-02, -2.0953e-03,  2.8804e-02, -1.2145e-01, -1.0536e-01,\n",
       "          1.3618e-02,  7.0084e-02,  6.6665e-02, -4.5854e-02,  1.0988e-01,\n",
       "         -4.4875e-03,  1.4754e-01, -5.9641e-02,  2.6175e-02,  1.1111e-02,\n",
       "         -9.6110e-02,  6.3570e-02,  6.0082e-03,  1.2782e-01],\n",
       "        [-1.1196e-01, -2.2397e-01,  8.9427e-02,  1.2122e-01, -1.7790e-01,\n",
       "          7.1267e-02, -4.6578e-02,  8.4660e-02,  4.7036e-02,  6.1970e-02,\n",
       "         -4.1460e-02,  3.6902e-02,  9.6795e-02, -8.3762e-03, -1.7857e-01,\n",
       "         -1.9671e-02, -4.7504e-02,  4.5743e-02,  1.3649e-01,  3.9539e-02,\n",
       "          1.4485e-01,  8.2632e-02,  1.1243e-02,  5.4220e-03, -1.3939e-01,\n",
       "          7.3952e-03,  7.0366e-02,  1.2719e-01, -1.0956e-01, -5.9597e-02,\n",
       "          2.1570e-02,  9.1000e-02, -1.5190e-01, -1.3607e-01, -2.8222e-02,\n",
       "          1.1574e-01, -7.1887e-02,  1.0440e-02, -1.4944e-02, -1.7273e-02,\n",
       "         -1.1141e-02,  1.3340e-02, -1.5996e-01,  1.2542e-01, -1.2368e-01,\n",
       "         -1.6141e-01,  1.4424e-01,  1.5180e-02,  1.0211e-01, -1.0277e-01,\n",
       "         -1.3021e-01, -1.1471e-01,  1.4590e-01,  2.0797e-02,  9.1652e-02,\n",
       "         -1.8342e-02, -3.5582e-02,  1.1604e-01,  2.6012e-01,  1.9220e-02,\n",
       "         -2.1077e-01, -1.1169e-01, -1.3525e-01, -9.2214e-02],\n",
       "        [ 9.5437e-02,  8.4741e-02, -1.2968e-01,  1.5128e-01,  1.9256e-02,\n",
       "          1.6062e-02, -1.1000e-02,  1.3012e-01,  1.7011e-01,  1.2300e-01,\n",
       "          1.0094e-01, -1.1693e-01,  1.0078e-01,  4.4250e-02,  2.1089e-02,\n",
       "          3.3046e-03, -1.2132e-01,  5.2175e-02, -1.9077e-01, -2.2864e-01,\n",
       "          7.6888e-02, -2.4107e-01, -1.6549e-01,  8.9844e-02,  4.6927e-02,\n",
       "          9.1198e-02, -1.3908e-01,  1.3222e-01, -3.9106e-02,  4.4331e-02,\n",
       "          5.6952e-02,  7.1306e-02, -1.8531e-01, -7.0622e-02, -1.0825e-02,\n",
       "         -8.8087e-02, -8.5643e-02, -2.8898e-02,  1.2537e-01, -1.3703e-01,\n",
       "          6.5304e-02, -3.7408e-02,  9.5386e-02,  2.5137e-01, -1.1059e-01,\n",
       "         -2.0943e-02, -1.1857e-01, -1.1746e-01,  9.8516e-03, -9.3679e-02,\n",
       "          6.0044e-02, -6.3014e-02,  1.2361e-01,  7.8856e-02,  2.3455e-02,\n",
       "         -2.0853e-01,  1.0622e-01, -1.4027e-01,  6.7389e-02, -8.6388e-03,\n",
       "         -1.3823e-01,  2.0743e-02,  1.1854e-01, -4.4882e-02],\n",
       "        [ 1.4654e-01, -2.0481e-01,  1.3329e-02,  1.7970e-01,  3.1502e-02,\n",
       "         -4.4792e-02, -2.4645e-02,  4.7879e-02,  2.6149e-02,  1.3791e-01,\n",
       "         -2.3444e-02, -1.1540e-01, -7.1370e-02,  1.0924e-01,  5.4284e-02,\n",
       "         -5.3707e-02, -9.3540e-03, -5.2363e-02,  6.0538e-02, -1.2756e-01,\n",
       "         -1.1790e-01,  6.5906e-02, -1.1352e-02, -1.0888e-01, -2.0753e-02,\n",
       "          2.9809e-02,  5.8380e-02,  1.9132e-02, -3.6096e-03,  1.6294e-01,\n",
       "          3.4876e-03,  3.2642e-02,  7.2378e-02,  6.7530e-02,  1.9630e-02,\n",
       "         -8.3342e-02, -9.0209e-02,  1.2715e-01,  2.3505e-02, -1.1315e-01,\n",
       "         -1.0362e-01,  1.0499e-01,  3.5954e-02, -1.7016e-03, -1.6236e-01,\n",
       "          9.3494e-03, -6.1228e-02, -1.5418e-01,  1.7827e-01, -1.0894e-03,\n",
       "          5.0699e-02,  7.1163e-02, -2.0206e-03, -9.3460e-02,  1.0397e-01,\n",
       "          4.2915e-02, -9.0925e-02, -1.6016e-02, -4.5658e-02, -2.0865e-01,\n",
       "          9.6046e-03,  1.3188e-02, -4.9728e-02, -1.2423e-01],\n",
       "        [-3.9791e-02,  1.7078e-02, -1.3171e-01, -1.5902e-01, -7.4141e-02,\n",
       "          1.5800e-01,  6.3444e-02,  1.4104e-01,  6.1191e-02, -1.1365e-01,\n",
       "         -2.2731e-03, -2.3764e-02,  1.2899e-01, -1.8168e-01, -1.2718e-01,\n",
       "          8.0779e-02,  5.6215e-02, -6.2106e-02,  1.9355e-01,  2.3804e-01,\n",
       "         -1.1990e-01, -7.2300e-03,  9.9967e-02,  1.0338e-01,  1.3784e-01,\n",
       "         -1.5402e-01, -5.8905e-03, -2.0898e-01,  1.2315e-01, -1.8020e-02,\n",
       "         -6.1379e-02,  9.9055e-02, -2.7447e-03,  3.5685e-02, -6.9127e-02,\n",
       "         -1.3545e-01, -3.4484e-02, -2.6815e-01, -6.6917e-03,  3.7102e-02,\n",
       "          7.8783e-02, -1.3220e-01,  1.2124e-01,  8.0228e-02,  1.4857e-01,\n",
       "         -1.0903e-01, -2.5558e-02,  8.5164e-03, -8.5311e-02,  6.1065e-02,\n",
       "         -2.0609e-01, -2.3134e-01, -1.0799e-01, -1.9137e-01,  3.9485e-02,\n",
       "          2.0419e-03, -1.5542e-01, -1.2199e-01, -8.4362e-02,  2.4404e-02,\n",
       "         -4.3953e-03, -1.1594e-01, -1.0845e-01, -5.8130e-02],\n",
       "        [-1.7111e-01,  5.0415e-02, -8.1200e-02, -2.2874e-01,  3.5747e-02,\n",
       "         -1.0466e-01,  1.2659e-01, -2.2856e-02,  1.4802e-01, -3.6324e-02,\n",
       "          4.0372e-02, -8.0563e-02, -1.8382e-01, -2.5810e-02,  8.1625e-03,\n",
       "          1.1535e-02, -6.9790e-02,  1.7599e-02, -1.0822e-01,  1.3059e-01,\n",
       "         -7.0957e-02,  9.8065e-02, -9.8946e-03, -5.2549e-02, -7.5646e-02,\n",
       "         -1.1254e-01, -4.8160e-04, -7.6754e-02, -3.9435e-02,  1.8115e-02,\n",
       "          1.1068e-01, -2.7991e-01,  1.7911e-01, -1.1512e-01, -1.3499e-02,\n",
       "          1.1272e-01,  1.6134e-01,  6.8396e-02,  1.2023e-01,  1.1989e-01,\n",
       "         -1.6650e-01,  7.6533e-02,  4.3882e-02, -4.4992e-02, -1.6693e-01,\n",
       "         -3.5729e-02, -5.6071e-02, -2.0965e-01,  1.2192e-01,  6.9080e-02,\n",
       "          1.0909e-01,  1.2728e-01, -1.0357e-01, -1.7012e-01,  1.3713e-01,\n",
       "          2.3302e-02,  7.1835e-02,  1.2165e-01, -8.4174e-02,  2.2505e-02,\n",
       "          5.6354e-02, -5.2763e-02, -1.0828e-01,  4.2659e-02],\n",
       "        [ 1.1786e-02,  1.6265e-02, -7.6647e-03, -6.9286e-02, -1.2152e-01,\n",
       "         -1.8674e-01, -8.8434e-02, -2.5976e-01,  1.1185e-02, -2.6999e-01,\n",
       "          2.7438e-02,  1.9722e-01, -5.4253e-03, -2.4938e-01, -8.3661e-02,\n",
       "          6.1679e-02, -1.8531e-01,  1.1485e-01,  1.8130e-01, -7.5156e-02,\n",
       "         -1.3033e-01, -1.0806e-01,  1.4278e-02,  1.9751e-02,  1.2386e-01,\n",
       "         -1.2738e-01, -2.0717e-01,  1.2258e-01, -1.2334e-01, -1.6518e-01,\n",
       "          3.9026e-02, -8.5288e-02,  5.4084e-02, -2.5237e-03,  1.2753e-01,\n",
       "          7.2325e-03, -4.4839e-02, -1.6132e-01,  3.2102e-02, -4.8099e-02,\n",
       "          1.2586e-01, -1.6405e-02, -1.3077e-01,  1.3446e-01, -1.0920e-01,\n",
       "          1.7595e-02,  1.3507e-01, -5.3723e-02, -5.1612e-02,  3.3217e-02,\n",
       "          1.1594e-01, -1.4811e-01, -2.1702e-01, -7.1615e-03, -9.0798e-02,\n",
       "         -1.9058e-01,  1.3704e-01, -1.3018e-01, -1.4220e-01,  7.3756e-02,\n",
       "          2.7864e-02,  1.1241e-01, -8.8550e-02,  6.4612e-02],\n",
       "        [-1.0463e-01,  1.9183e-04, -1.9217e-01,  8.1391e-02,  9.1048e-02,\n",
       "          1.3013e-01,  1.4930e-01,  9.9867e-02,  9.6824e-02,  5.9377e-02,\n",
       "         -1.5887e-01, -8.1547e-02,  7.4374e-02,  6.9371e-02,  5.6077e-02,\n",
       "         -1.2957e-01,  1.2719e-02, -1.1394e-01, -1.4719e-01, -1.1706e-01,\n",
       "         -3.7089e-02, -9.2891e-02,  2.9369e-03,  1.1853e-01, -6.8436e-02,\n",
       "         -1.4004e-01,  1.0099e-01,  1.1329e-01, -1.0956e-01,  9.4130e-02,\n",
       "         -1.3238e-01,  4.0361e-02,  7.9703e-02, -1.0089e-01, -1.8092e-01,\n",
       "         -4.9443e-02,  1.2242e-01,  2.0899e-02, -1.3965e-01, -1.4126e-01,\n",
       "          1.2651e-01, -1.6522e-01,  8.2108e-02,  9.1963e-02,  3.1198e-02,\n",
       "          1.2777e-01, -3.2489e-02,  1.0750e-01,  5.9349e-02, -8.9314e-02,\n",
       "         -1.1738e-02,  7.9344e-02,  8.0547e-02,  1.8012e-01,  2.7868e-03,\n",
       "          4.4591e-02,  2.6035e-02,  1.4613e-01, -1.6174e-01,  1.0180e-02,\n",
       "          4.6632e-02, -1.9743e-01,  5.4543e-02, -4.5846e-03],\n",
       "        [ 1.0028e-01, -1.2138e-03, -5.2012e-02, -1.6482e-02,  1.2473e-01,\n",
       "         -7.3492e-02, -1.4563e-01, -4.7773e-02, -1.2766e-01,  1.1481e-01,\n",
       "         -5.9355e-02,  2.6294e-02,  3.4403e-02, -5.7080e-02, -6.1606e-02,\n",
       "          4.6368e-02, -1.9155e-01, -1.4060e-02, -1.7372e-01, -6.4424e-02,\n",
       "          1.6942e-01, -1.9496e-01, -2.1778e-01, -1.6043e-01, -7.8885e-02,\n",
       "          1.7007e-02,  3.2104e-02, -1.3192e-01,  8.1545e-02, -1.4319e-01,\n",
       "          8.6392e-03, -3.8358e-02,  7.7682e-02,  1.1961e-01,  1.1945e-01,\n",
       "          6.0358e-02, -3.1897e-02,  4.6960e-03,  1.1406e-01,  5.5924e-02,\n",
       "         -5.9197e-02,  5.6327e-02,  4.2814e-02, -1.5223e-01,  1.7012e-02,\n",
       "         -2.4573e-01,  1.7216e-02, -4.6349e-02, -3.1904e-02,  8.6418e-02,\n",
       "          6.7121e-02,  7.0591e-02,  5.1873e-03,  3.6244e-02, -1.4502e-01,\n",
       "          1.0687e-01,  2.7834e-02, -1.7856e-02, -8.0530e-02, -8.0692e-03,\n",
       "         -6.0426e-02, -1.6277e-01,  1.3403e-01, -1.6987e-02],\n",
       "        [ 1.4472e-01, -1.9152e-03, -3.9405e-02, -1.5711e-01, -4.9024e-02,\n",
       "          8.2555e-02, -7.4974e-02,  7.6102e-02, -1.4731e-01,  1.2135e-01,\n",
       "         -8.5729e-02,  1.4934e-02,  8.4617e-02,  9.2653e-02, -1.2944e-01,\n",
       "         -6.0493e-02,  3.6771e-02,  9.1525e-02, -2.3332e-01, -1.5261e-01,\n",
       "         -5.2050e-02,  1.8464e-01, -2.2106e-02,  1.7304e-01,  1.3295e-01,\n",
       "         -9.7392e-02,  8.7785e-03, -1.5017e-01, -1.6946e-02,  6.8478e-02,\n",
       "          6.2295e-02,  1.3099e-01, -8.6644e-03, -1.6958e-02,  1.2593e-02,\n",
       "          9.5676e-03,  2.3874e-02, -4.0593e-02, -1.3078e-01,  6.1100e-02,\n",
       "          7.7076e-02, -6.5038e-02, -5.4257e-02, -1.4299e-01, -9.9902e-02,\n",
       "         -1.0802e-01, -1.8076e-01, -1.0609e-02, -5.6593e-02,  3.0342e-02,\n",
       "         -4.4215e-02,  1.5087e-01, -7.3899e-02, -2.5418e-01, -2.1087e-01,\n",
       "          1.4820e-01, -1.0707e-01,  3.6875e-02, -3.8124e-02, -5.4560e-04,\n",
       "          1.4304e-01,  6.5840e-03, -1.9887e-02,  7.4946e-02]])"
      ]
     },
     "execution_count": 52,
     "metadata": {},
     "output_type": "execute_result"
    }
   ],
   "source": [
    "weights['fc.weight']"
   ]
  },
  {
   "cell_type": "code",
   "execution_count": 60,
   "metadata": {},
   "outputs": [
    {
     "data": {
      "text/plain": [
       "CnnBaseModel(\n",
       "  (conv1): Sequential(\n",
       "    (0): Conv2d(1, 32, kernel_size=(3, 3), stride=(2, 2), padding=(1, 1), bias=False)\n",
       "    (1): ReLU()\n",
       "    (2): Dropout(p=0.1, inplace=False)\n",
       "  )\n",
       "  (conv2): Sequential(\n",
       "    (0): Conv2d(32, 32, kernel_size=(3, 3), stride=(2, 2), padding=(1, 1), bias=False)\n",
       "    (1): ReLU()\n",
       "    (2): Dropout(p=0.1, inplace=False)\n",
       "  )\n",
       "  (conv3): Sequential(\n",
       "    (0): Conv2d(32, 64, kernel_size=(3, 3), stride=(1, 1), padding=(1, 1), bias=False)\n",
       "    (1): ReLU()\n",
       "    (2): Dropout(p=0.1, inplace=False)\n",
       "  )\n",
       "  (conv4): Sequential(\n",
       "    (0): Conv2d(64, 64, kernel_size=(3, 3), stride=(2, 2), padding=(1, 1), bias=False)\n",
       "    (1): ReLU()\n",
       "    (2): Dropout(p=0.1, inplace=False)\n",
       "  )\n",
       "  (avg_pool): AvgPool2d(kernel_size=3, stride=3, padding=0)\n",
       "  (fc): Linear(in_features=64, out_features=10, bias=True)\n",
       ")"
      ]
     },
     "execution_count": 60,
     "metadata": {},
     "output_type": "execute_result"
    }
   ],
   "source": [
    "model"
   ]
  },
  {
   "cell_type": "code",
   "execution_count": null,
   "metadata": {},
   "outputs": [],
   "source": []
  }
 ],
 "metadata": {
  "kernelspec": {
   "display_name": "cong",
   "language": "python",
   "name": "python3"
  },
  "language_info": {
   "codemirror_mode": {
    "name": "ipython",
    "version": 3
   },
   "file_extension": ".py",
   "mimetype": "text/x-python",
   "name": "python",
   "nbconvert_exporter": "python",
   "pygments_lexer": "ipython3",
   "version": "3.9.16"
  },
  "orig_nbformat": 4
 },
 "nbformat": 4,
 "nbformat_minor": 2
}
